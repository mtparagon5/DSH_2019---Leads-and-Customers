{
 "cells": [
  {
   "cell_type": "code",
   "execution_count": 57,
   "metadata": {},
   "outputs": [],
   "source": [
    "import pandas as pd\n",
    "import numpy as np\n",
    "import matplotlib.pyplot as plt\n",
    "import pickle, random\n",
    "\n",
    "import seaborn as sns\n",
    "\n",
    "import sklearn\n",
    "from sklearn import ensemble, model_selection, preprocessing, tree, linear_model, neighbors\n",
    "from sklearn.metrics import confusion_matrix, classification_report\n",
    "from yellowbrick.classifier import ROCAUC\n",
    "from yellowbrick.classifier import ClassificationReport, ConfusionMatrix"
   ]
  },
  {
   "cell_type": "markdown",
   "metadata": {},
   "source": [
    "## In Summary:\n",
    "    - looking at features that predict the attendance of webinar\n",
    "            "
   ]
  },
  {
   "cell_type": "markdown",
   "metadata": {},
   "source": [
    "### I'm using  plot_confusion_matrix  function taken from kernel found on Kaggle\n",
    "####  Credit to [George Fisher](https://www.kaggle.com/grfiv4/plot-a-confusion-matrix/notebook) who has licensed it under an [Apache 2.0](https://www.apache.org/licenses/LICENSE-2.0)  open source license"
   ]
  },
  {
   "cell_type": "code",
   "execution_count": 2,
   "metadata": {},
   "outputs": [],
   "source": [
    "def plot_confusion_matrix(cm,\n",
    "                          target_names,\n",
    "                          title='Confusion matrix',\n",
    "                          cmap=None,\n",
    "                          normalize=True):\n",
    "    \"\"\"\n",
    "    given a sklearn confusion matrix (cm), make a nice plot\n",
    "\n",
    "    Arguments\n",
    "    ---------\n",
    "    cm:           confusion matrix from sklearn.metrics.confusion_matrix\n",
    "\n",
    "    target_names: given classification classes such as [0, 1, 2]\n",
    "                  the class names, for example: ['high', 'medium', 'low']\n",
    "\n",
    "    title:        the text to display at the top of the matrix\n",
    "\n",
    "    cmap:         the gradient of the values displayed from matplotlib.pyplot.cm\n",
    "                  see http://matplotlib.org/examples/color/colormaps_reference.html\n",
    "                  plt.get_cmap('jet') or plt.cm.Blues\n",
    "\n",
    "    normalize:    If False, plot the raw numbers\n",
    "                  If True, plot the proportions\n",
    "\n",
    "    Usage\n",
    "    -----\n",
    "    plot_confusion_matrix(cm           = cm,                  # confusion matrix created by\n",
    "                                                              # sklearn.metrics.confusion_matrix\n",
    "                          normalize    = True,                # show proportions\n",
    "                          target_names = y_labels_vals,       # list of names of the classes\n",
    "                          title        = best_estimator_name) # title of graph\n",
    "\n",
    "    Citiation\n",
    "    ---------\n",
    "    http://scikit-learn.org/stable/auto_examples/model_selection/plot_confusion_matrix.html\n",
    "\n",
    "    \"\"\"\n",
    "    import matplotlib.pyplot as plt\n",
    "    import numpy as np\n",
    "    import itertools\n",
    "\n",
    "    accuracy = np.trace(cm) / float(np.sum(cm))\n",
    "    misclass = 1 - accuracy\n",
    "\n",
    "    if cmap is None:\n",
    "        cmap = plt.get_cmap('Blues')\n",
    "\n",
    "    plt.figure(figsize=(8, 6))\n",
    "    plt.imshow(cm, interpolation='nearest', cmap=cmap)\n",
    "    plt.title(title)\n",
    "    plt.colorbar()\n",
    "\n",
    "    if target_names is not None:\n",
    "        tick_marks = np.arange(len(target_names))\n",
    "        plt.xticks(tick_marks, target_names, rotation=45)\n",
    "        plt.yticks(tick_marks, target_names)\n",
    "\n",
    "    if normalize:\n",
    "        cm = cm.astype('float') / cm.sum(axis=1)[:, np.newaxis]\n",
    "\n",
    "\n",
    "    thresh = cm.max() / 1.5 if normalize else cm.max() / 2\n",
    "    for i, j in itertools.product(range(cm.shape[0]), range(cm.shape[1])):\n",
    "        if normalize:\n",
    "            plt.text(j, i, \"{:0.4f}\".format(cm[i, j]),\n",
    "                     horizontalalignment=\"center\",\n",
    "                     color=\"white\" if cm[i, j] > thresh else \"black\")\n",
    "        else:\n",
    "            plt.text(j, i, \"{:,}\".format(cm[i, j]),\n",
    "                     horizontalalignment=\"center\",\n",
    "                     color=\"white\" if cm[i, j] > thresh else \"black\")\n",
    "\n",
    "\n",
    "    plt.tight_layout()\n",
    "    plt.ylabel('True label')\n",
    "    plt.xlabel('Predicted label\\naccuracy={:0.4f}; misclass={:0.4f}'.format(accuracy, misclass))\n",
    "    plt.show()\n"
   ]
  },
  {
   "cell_type": "markdown",
   "metadata": {},
   "source": [
    "### A function for pickling the classifiers (not necessary)"
   ]
  },
  {
   "cell_type": "code",
   "execution_count": 3,
   "metadata": {},
   "outputs": [],
   "source": [
    "def pickle_classifier(filepath, classifier):\n",
    "    \"\"\"Function to automate the pickling of a classifier\n",
    "    \"\"\"\n",
    "    with open(filepath, 'wb') as f:\n",
    "        pickle.dump(classifier, f)\n",
    "\n",
    "def load_pickled_classifier(filepath):\n",
    "    \"\"\"Function to load a pickled classifier\n",
    "    \"\"\"\n",
    "    with open(filepath, 'rb') as f:\n",
    "        return pickle.load(f)"
   ]
  },
  {
   "cell_type": "code",
   "execution_count": 39,
   "metadata": {},
   "outputs": [
    {
     "name": "stdout",
     "output_type": "stream",
     "text": [
      "unique states: 62\n",
      "['WA' 'IL' 'VA' 'OR' 'SD' 'AL' 'AK' 'KS' 'NY' 'ND' 'AS' 'AP' 'AE' 'WI'\n",
      " 'PW' 'NH' 'NV' 'OK' 'IN' 'ID' 'SC' 'VI' 'WV' 'MA' 'NC' 'FL' 'GU' 'GA'\n",
      " 'AZ' 'PA' 'TX' 'PR' 'FM' 'AA' 'MN' 'MT' 'NJ' 'KY' 'LA' 'MO' 'HI' 'NM'\n",
      " 'VT' 'AR' 'MI' 'CT' 'TN' 'CA' 'DC' 'MD' 'MH' 'MP' 'UT' 'OH' 'ME' 'WY'\n",
      " 'CO' 'DE' 'IA' 'MS' 'NE' 'RI']\n"
     ]
    }
   ],
   "source": [
    "leads_and_customers = '..\\\\data\\\\leads-and-customers.csv'\n",
    "df_lac = pd.read_csv(leads_and_customers)\n",
    "df_lac.head()\n",
    "df = df_lac\n",
    "\n",
    "\n",
    "df['zipCode'] = df['address'].apply(lambda x: x.split('\\n')[1].split()[-1]) \n",
    "df['zipCode'] = df['zipCode'].apply(lambda x: x.split('-')[0]) \n",
    "df['state'] = df['address'].apply(lambda x: x.split('\\n')[1].split()[-2])\n",
    "\n",
    "\n",
    "print('unique states: ' + str(len(df['state'].unique())))\n",
    "print(df['state'].unique())\n",
    "\n",
    "\n",
    "df_lac['state'] = df['state']\n",
    "\n"
   ]
  },
  {
   "cell_type": "code",
   "execution_count": 40,
   "metadata": {},
   "outputs": [
    {
     "data": {
      "text/html": [
       "<div>\n",
       "<style scoped>\n",
       "    .dataframe tbody tr th:only-of-type {\n",
       "        vertical-align: middle;\n",
       "    }\n",
       "\n",
       "    .dataframe tbody tr th {\n",
       "        vertical-align: top;\n",
       "    }\n",
       "\n",
       "    .dataframe thead th {\n",
       "        text-align: right;\n",
       "    }\n",
       "</style>\n",
       "<table border=\"1\" class=\"dataframe\">\n",
       "  <thead>\n",
       "    <tr style=\"text-align: right;\">\n",
       "      <th></th>\n",
       "      <th>address</th>\n",
       "      <th>birthdate</th>\n",
       "      <th>mail</th>\n",
       "      <th>name</th>\n",
       "      <th>sex</th>\n",
       "      <th>username</th>\n",
       "      <th>days_since_signup</th>\n",
       "      <th>acquisition_channel</th>\n",
       "      <th>job_title</th>\n",
       "      <th>company_size</th>\n",
       "      <th>...</th>\n",
       "      <th>company_size_51-100</th>\n",
       "      <th>industry_Financial Services</th>\n",
       "      <th>industry_Furniture</th>\n",
       "      <th>industry_Heavy Manufacturing</th>\n",
       "      <th>Scandanavion Design</th>\n",
       "      <th>Transportation</th>\n",
       "      <th>Internet</th>\n",
       "      <th>score</th>\n",
       "      <th>zipCode</th>\n",
       "      <th>state</th>\n",
       "    </tr>\n",
       "  </thead>\n",
       "  <tbody>\n",
       "    <tr>\n",
       "      <th>0</th>\n",
       "      <td>27105 Christopher Station\\r\\nKevinborough, WA ...</td>\n",
       "      <td>08/08/10</td>\n",
       "      <td>qturner@hotmail.com</td>\n",
       "      <td>Samuel Simpson</td>\n",
       "      <td>M</td>\n",
       "      <td>debrapeterson</td>\n",
       "      <td>18</td>\n",
       "      <td>Organic Search</td>\n",
       "      <td>Marketing Director</td>\n",
       "      <td>11/01/50</td>\n",
       "      <td>...</td>\n",
       "      <td>0</td>\n",
       "      <td>0</td>\n",
       "      <td>0</td>\n",
       "      <td>0</td>\n",
       "      <td>0</td>\n",
       "      <td>0</td>\n",
       "      <td>1</td>\n",
       "      <td>151.000000</td>\n",
       "      <td>91949</td>\n",
       "      <td>WA</td>\n",
       "    </tr>\n",
       "    <tr>\n",
       "      <th>1</th>\n",
       "      <td>78597 Gina Grove\\r\\nNorth Rebeccaberg, IL 61475</td>\n",
       "      <td>12/04/81</td>\n",
       "      <td>carramy@yahoo.com</td>\n",
       "      <td>Angelica Sanchez</td>\n",
       "      <td>F</td>\n",
       "      <td>mbrooks</td>\n",
       "      <td>3</td>\n",
       "      <td>Organic Search</td>\n",
       "      <td>Promotion Manager</td>\n",
       "      <td>251-1000</td>\n",
       "      <td>...</td>\n",
       "      <td>0</td>\n",
       "      <td>0</td>\n",
       "      <td>0</td>\n",
       "      <td>0</td>\n",
       "      <td>0</td>\n",
       "      <td>0</td>\n",
       "      <td>1</td>\n",
       "      <td>141.358438</td>\n",
       "      <td>61475</td>\n",
       "      <td>IL</td>\n",
       "    </tr>\n",
       "    <tr>\n",
       "      <th>2</th>\n",
       "      <td>0628 Sanders Plains\\r\\nLake Jenna, VA 56410</td>\n",
       "      <td>04/25/79</td>\n",
       "      <td>sbrown@yahoo.com</td>\n",
       "      <td>Connie Taylor</td>\n",
       "      <td>F</td>\n",
       "      <td>aarongriffin</td>\n",
       "      <td>26</td>\n",
       "      <td>Organic Search</td>\n",
       "      <td>Information Systems Manager</td>\n",
       "      <td>1000-10000</td>\n",
       "      <td>...</td>\n",
       "      <td>0</td>\n",
       "      <td>0</td>\n",
       "      <td>0</td>\n",
       "      <td>0</td>\n",
       "      <td>0</td>\n",
       "      <td>0</td>\n",
       "      <td>1</td>\n",
       "      <td>120.448748</td>\n",
       "      <td>56410</td>\n",
       "      <td>VA</td>\n",
       "    </tr>\n",
       "    <tr>\n",
       "      <th>3</th>\n",
       "      <td>9774 Moore Square Suite 477\\r\\nGonzalezfurt, O...</td>\n",
       "      <td>07/13/05</td>\n",
       "      <td>bdixon@gmail.com</td>\n",
       "      <td>Alexis Jones</td>\n",
       "      <td>F</td>\n",
       "      <td>jeffreymorales</td>\n",
       "      <td>19</td>\n",
       "      <td>Cold Email</td>\n",
       "      <td>Territory Sales Manager</td>\n",
       "      <td>10-Jan</td>\n",
       "      <td>...</td>\n",
       "      <td>0</td>\n",
       "      <td>0</td>\n",
       "      <td>0</td>\n",
       "      <td>0</td>\n",
       "      <td>0</td>\n",
       "      <td>0</td>\n",
       "      <td>1</td>\n",
       "      <td>250.335264</td>\n",
       "      <td>08748</td>\n",
       "      <td>OR</td>\n",
       "    </tr>\n",
       "    <tr>\n",
       "      <th>4</th>\n",
       "      <td>77324 John Tunnel\\r\\nSouth Shirleyfort, WA 364...</td>\n",
       "      <td>06/19/73</td>\n",
       "      <td>harrisandrea@gmail.com</td>\n",
       "      <td>Lisa Wright</td>\n",
       "      <td>F</td>\n",
       "      <td>hamiltoncameron</td>\n",
       "      <td>7</td>\n",
       "      <td>Organic Search</td>\n",
       "      <td>Data Processing Manager</td>\n",
       "      <td>10001</td>\n",
       "      <td>...</td>\n",
       "      <td>0</td>\n",
       "      <td>0</td>\n",
       "      <td>0</td>\n",
       "      <td>0</td>\n",
       "      <td>0</td>\n",
       "      <td>0</td>\n",
       "      <td>1</td>\n",
       "      <td>0.000000</td>\n",
       "      <td>36499</td>\n",
       "      <td>WA</td>\n",
       "    </tr>\n",
       "  </tbody>\n",
       "</table>\n",
       "<p>5 rows × 38 columns</p>\n",
       "</div>"
      ],
      "text/plain": [
       "                                             address birthdate  \\\n",
       "0  27105 Christopher Station\\r\\nKevinborough, WA ...  08/08/10   \n",
       "1    78597 Gina Grove\\r\\nNorth Rebeccaberg, IL 61475  12/04/81   \n",
       "2        0628 Sanders Plains\\r\\nLake Jenna, VA 56410  04/25/79   \n",
       "3  9774 Moore Square Suite 477\\r\\nGonzalezfurt, O...  07/13/05   \n",
       "4  77324 John Tunnel\\r\\nSouth Shirleyfort, WA 364...  06/19/73   \n",
       "\n",
       "                     mail              name sex         username  \\\n",
       "0     qturner@hotmail.com    Samuel Simpson   M    debrapeterson   \n",
       "1       carramy@yahoo.com  Angelica Sanchez   F          mbrooks   \n",
       "2        sbrown@yahoo.com     Connie Taylor   F     aarongriffin   \n",
       "3        bdixon@gmail.com      Alexis Jones   F   jeffreymorales   \n",
       "4  harrisandrea@gmail.com       Lisa Wright   F  hamiltoncameron   \n",
       "\n",
       "   days_since_signup acquisition_channel                    job_title  \\\n",
       "0                 18      Organic Search           Marketing Director   \n",
       "1                  3      Organic Search            Promotion Manager   \n",
       "2                 26      Organic Search  Information Systems Manager   \n",
       "3                 19          Cold Email      Territory Sales Manager   \n",
       "4                  7      Organic Search      Data Processing Manager   \n",
       "\n",
       "  company_size  ...  company_size_51-100  industry_Financial Services  \\\n",
       "0     11/01/50  ...                    0                            0   \n",
       "1     251-1000  ...                    0                            0   \n",
       "2   1000-10000  ...                    0                            0   \n",
       "3       10-Jan  ...                    0                            0   \n",
       "4        10001  ...                    0                            0   \n",
       "\n",
       "   industry_Furniture  industry_Heavy Manufacturing Scandanavion Design  \\\n",
       "0                   0                             0                   0   \n",
       "1                   0                             0                   0   \n",
       "2                   0                             0                   0   \n",
       "3                   0                             0                   0   \n",
       "4                   0                             0                   0   \n",
       "\n",
       "   Transportation  Internet       score  zipCode  state  \n",
       "0               0         1  151.000000    91949     WA  \n",
       "1               0         1  141.358438    61475     IL  \n",
       "2               0         1  120.448748    56410     VA  \n",
       "3               0         1  250.335264    08748     OR  \n",
       "4               0         1    0.000000    36499     WA  \n",
       "\n",
       "[5 rows x 38 columns]"
      ]
     },
     "execution_count": 40,
     "metadata": {},
     "output_type": "execute_result"
    }
   ],
   "source": [
    "df_lac.head()"
   ]
  },
  {
   "cell_type": "code",
   "execution_count": 49,
   "metadata": {},
   "outputs": [],
   "source": [
    "df = pd.read_json('..\\\\data\\\\cleaned_df_categorical_columns.json')\n",
    "\n",
    "df['state'] = df_lac['state']\n",
    "\n",
    "df_states_and_gender = df[['state', 'is_male', 'converted']]\n",
    "\n",
    "# convert categorical to binary value\n",
    "df_w_dummies = pd.get_dummies(df)\n",
    "df_states_and_gender_w_dummies = pd.get_dummies(df_states_and_gender)\n",
    "\n",
    "\n",
    "# moving converted to last column (was thinking of using random.shuffle)\n",
    "df_score = df_w_dummies['score']\n",
    "df_w_dummies = df_w_dummies.drop(['score'], axis=1)\n",
    "df_w_dummies['score'] = df_score"
   ]
  },
  {
   "cell_type": "code",
   "execution_count": 58,
   "metadata": {
    "scrolled": true
   },
   "outputs": [],
   "source": [
    "df_w_dummies.head()\n",
    "\n",
    "df = df_w_dummies.astype(float)\n",
    "df_states_and_gender_w_dummies_floats = df_states_and_gender_w_dummies.astype(float)"
   ]
  },
  {
   "cell_type": "code",
   "execution_count": 62,
   "metadata": {},
   "outputs": [],
   "source": [
    "# g = sns.pairplot(df_states_and_gender_w_dummies)\n",
    "# out of memory error"
   ]
  },
  {
   "cell_type": "code",
   "execution_count": 43,
   "metadata": {},
   "outputs": [
    {
     "data": {
      "text/plain": [
       "Index(['attended_webinar_bool', 'completed_form_bool', 'converted',\n",
       "       'is_director', 'is_male', 'registered_for_webinar_bool',\n",
       "       'visited_pricing_bool', 'acquisition_channel_Cold Call',\n",
       "       'acquisition_channel_Cold Email', 'acquisition_channel_Organic Search',\n",
       "       'acquisition_channel_Paid Leads', 'acquisition_channel_Paid Search',\n",
       "       'industry_Financial Services', 'industry_Furniture',\n",
       "       'industry_Heavy Manufacturing', 'industry_Scandanavion Design',\n",
       "       'industry_Transportation', 'industry_Web & Internet', 'state_AA',\n",
       "       'state_AE', 'state_AK', 'state_AL', 'state_AP', 'state_AR', 'state_AS',\n",
       "       'state_AZ', 'state_CA', 'state_CO', 'state_CT', 'state_DC', 'state_DE',\n",
       "       'state_FL', 'state_FM', 'state_GA', 'state_GU', 'state_HI', 'state_IA',\n",
       "       'state_ID', 'state_IL', 'state_IN', 'state_KS', 'state_KY', 'state_LA',\n",
       "       'state_MA', 'state_MD', 'state_ME', 'state_MH', 'state_MI', 'state_MN',\n",
       "       'state_MO', 'state_MP', 'state_MS', 'state_MT', 'state_NC', 'state_ND',\n",
       "       'state_NE', 'state_NH', 'state_NJ', 'state_NM', 'state_NV', 'state_NY',\n",
       "       'state_OH', 'state_OK', 'state_OR', 'state_PA', 'state_PR', 'state_PW',\n",
       "       'state_RI', 'state_SC', 'state_SD', 'state_TN', 'state_TX', 'state_UT',\n",
       "       'state_VA', 'state_VI', 'state_VT', 'state_WA', 'state_WI', 'state_WV',\n",
       "       'state_WY', 'score'],\n",
       "      dtype='object')"
      ]
     },
     "execution_count": 43,
     "metadata": {},
     "output_type": "execute_result"
    }
   ],
   "source": [
    "df.columns"
   ]
  },
  {
   "cell_type": "markdown",
   "metadata": {},
   "source": [
    "### Random Forest"
   ]
  },
  {
   "cell_type": "code",
   "execution_count": 8,
   "metadata": {},
   "outputs": [
    {
     "name": "stdout",
     "output_type": "stream",
     "text": [
      "Test 1 Accuracy:\t0.9004\n"
     ]
    },
    {
     "data": {
      "image/png": "[encoded data removed]",
      "text/plain": [
       "<Figure size 576x432 with 2 Axes>"
      ]
     },
     "metadata": {},
     "output_type": "display_data"
    }
   ],
   "source": [
    "# without score\n",
    "\n",
    "X = df.drop(columns=['converted', 'score', 'attended_webinar_bool'])\n",
    "y = df.attended_webinar_bool\n",
    "\n",
    "for i in range(1, 2):\n",
    "    X_train, X_test, y_train, y_test = model_selection.train_test_split(X,y,test_size=.25, random_state=None)\n",
    "\n",
    "    n_trees = 500\n",
    "    clf = ensemble.RandomForestClassifier(max_features='auto', n_estimators=n_trees, random_state=None, n_jobs=-1)\n",
    "    clf.fit(X_train, y_train)\n",
    "    accuracy = clf.score(X_test, y_test)\n",
    "    print('Test {0} Accuracy:\\t{1}'.format(i, accuracy))\n",
    "    \n",
    "pickle_classifier('..\\\\classifiers\\\\random_forest_categorical_attendwebinar_wo_score.pickle', clf)\n",
    "\n",
    "y_pred = clf.predict(X_test)\n",
    "cm = confusion_matrix(y_test, y_pred)\n",
    "\n",
    "plot_confusion_matrix(cm           = cm, \n",
    "                      normalize    = False,\n",
    "                      target_names = ['No', 'Yes'],\n",
    "                      title        = \"Confusion Matrix -- Random Forest\")"
   ]
  },
  {
   "cell_type": "code",
   "execution_count": 9,
   "metadata": {},
   "outputs": [],
   "source": [
    "# with score\n",
    "\n",
    "# X = df.drop(columns=['converted'])\n",
    "# y = df.converted\n",
    "\n",
    "# for i in range(1, 2):\n",
    "#     X_train, X_test, y_train, y_test = model_selection.train_test_split(X,y,test_size=.25, random_state=None)\n",
    "\n",
    "#     n_trees = 500\n",
    "#     clf = ensemble.RandomForestClassifier(max_features='auto', n_estimators=n_trees, random_state=None, n_jobs=-1)\n",
    "#     clf.fit(X_train, y_train)\n",
    "#     accuracy = clf.score(X_test, y_test)\n",
    "#     print('Test {0} Accuracy:\\t{1}'.format(i, accuracy))\n",
    "    \n",
    "# pickle_classifier('..\\\\classifiers\\\\random_forest_categorical_attendwebinar_w_score.pickle', clf)\n",
    "\n",
    "# y_pred = clf.predict(X_test)\n",
    "# cm = confusion_matrix(y_test, y_pred)\n",
    "\n",
    "# plot_confusion_matrix(cm           = cm, \n",
    "#                       normalize    = False,\n",
    "#                       target_names = ['No', 'Yes'],\n",
    "#                       title        = \"Confusion Matrix -- Random Forest\")"
   ]
  },
  {
   "cell_type": "code",
   "execution_count": 95,
   "metadata": {},
   "outputs": [],
   "source": [
    "# print(clf.decision_path(X))\n",
    "# print(clf.feature_importances_)"
   ]
  },
  {
   "cell_type": "markdown",
   "metadata": {},
   "source": [
    "## Logistic Regression"
   ]
  },
  {
   "cell_type": "code",
   "execution_count": 44,
   "metadata": {},
   "outputs": [
    {
     "name": "stdout",
     "output_type": "stream",
     "text": [
      "Test 1 Accuracy:\t0.89928\n",
      "[-2.19081653 -2.12147346 -2.13790861 ... -2.43214932 -2.05284991\n",
      " -2.17603834]\n",
      "-2.1932889186428572\n"
     ]
    },
    {
     "data": {
      "image/png": "[encoded data removed]",
      "text/plain": [
       "<Figure size 576x432 with 2 Axes>"
      ]
     },
     "metadata": {
      "needs_background": "light"
     },
     "output_type": "display_data"
    }
   ],
   "source": [
    "# without score\n",
    "X = df.drop(columns=['converted', 'score', 'attended_webinar_bool', 'registered_for_webinar_bool'])\n",
    "y = df.attended_webinar_bool\n",
    "\n",
    "for i in range(1, 2):\n",
    "    X_train, X_test, y_train, y_test = model_selection.train_test_split(X,y,test_size=.25, random_state=None)\n",
    "\n",
    "    clf = linear_model.LogisticRegression(random_state=None, solver='lbfgs', n_jobs=-1)\n",
    "    clf.fit(X_train, y_train)\n",
    "    accuracy = clf.score(X_test, y_test)\n",
    "    print('Test {0} Accuracy:\\t{1}'.format(i, accuracy))\n",
    "    \n",
    "pickle_classifier('..\\\\classifiers\\\\logistic_regression_categorical_attendwebinar_wo_score.pickle', clf)\n",
    "\n",
    "y_pred = clf.predict(X_test)\n",
    "cm = confusion_matrix(y_test, y_pred)\n",
    "\n",
    "print(clf.decision_function(X))\n",
    "print(clf.decision_function(X).mean())\n",
    "pd.DataFrame(clf.decision_function(X)>0).describe()\n",
    "\n",
    "plot_confusion_matrix(cm           = cm, \n",
    "                      normalize    = False,\n",
    "                      target_names = ['No', 'Yes'],\n",
    "                      title        = \"Confusion Matrix -- Logistic Regression\")"
   ]
  },
  {
   "cell_type": "markdown",
   "metadata": {},
   "source": [
    "### with state and gender only"
   ]
  },
  {
   "cell_type": "code",
   "execution_count": 63,
   "metadata": {},
   "outputs": [
    {
     "data": {
      "text/html": [
       "<div>\n",
       "<style scoped>\n",
       "    .dataframe tbody tr th:only-of-type {\n",
       "        vertical-align: middle;\n",
       "    }\n",
       "\n",
       "    .dataframe tbody tr th {\n",
       "        vertical-align: top;\n",
       "    }\n",
       "\n",
       "    .dataframe thead th {\n",
       "        text-align: right;\n",
       "    }\n",
       "</style>\n",
       "<table border=\"1\" class=\"dataframe\">\n",
       "  <thead>\n",
       "    <tr style=\"text-align: right;\">\n",
       "      <th></th>\n",
       "      <th>is_male</th>\n",
       "      <th>converted</th>\n",
       "      <th>state_AA</th>\n",
       "      <th>state_AE</th>\n",
       "      <th>state_AK</th>\n",
       "      <th>state_AL</th>\n",
       "      <th>state_AP</th>\n",
       "      <th>state_AR</th>\n",
       "      <th>state_AS</th>\n",
       "      <th>state_AZ</th>\n",
       "      <th>...</th>\n",
       "      <th>state_TN</th>\n",
       "      <th>state_TX</th>\n",
       "      <th>state_UT</th>\n",
       "      <th>state_VA</th>\n",
       "      <th>state_VI</th>\n",
       "      <th>state_VT</th>\n",
       "      <th>state_WA</th>\n",
       "      <th>state_WI</th>\n",
       "      <th>state_WV</th>\n",
       "      <th>state_WY</th>\n",
       "    </tr>\n",
       "  </thead>\n",
       "  <tbody>\n",
       "    <tr>\n",
       "      <th>0</th>\n",
       "      <td>1.0</td>\n",
       "      <td>1.0</td>\n",
       "      <td>0.0</td>\n",
       "      <td>0.0</td>\n",
       "      <td>0.0</td>\n",
       "      <td>0.0</td>\n",
       "      <td>0.0</td>\n",
       "      <td>0.0</td>\n",
       "      <td>0.0</td>\n",
       "      <td>0.0</td>\n",
       "      <td>...</td>\n",
       "      <td>0.0</td>\n",
       "      <td>0.0</td>\n",
       "      <td>0.0</td>\n",
       "      <td>0.0</td>\n",
       "      <td>0.0</td>\n",
       "      <td>0.0</td>\n",
       "      <td>1.0</td>\n",
       "      <td>0.0</td>\n",
       "      <td>0.0</td>\n",
       "      <td>0.0</td>\n",
       "    </tr>\n",
       "    <tr>\n",
       "      <th>1</th>\n",
       "      <td>0.0</td>\n",
       "      <td>0.0</td>\n",
       "      <td>0.0</td>\n",
       "      <td>0.0</td>\n",
       "      <td>0.0</td>\n",
       "      <td>0.0</td>\n",
       "      <td>0.0</td>\n",
       "      <td>0.0</td>\n",
       "      <td>0.0</td>\n",
       "      <td>0.0</td>\n",
       "      <td>...</td>\n",
       "      <td>0.0</td>\n",
       "      <td>0.0</td>\n",
       "      <td>0.0</td>\n",
       "      <td>0.0</td>\n",
       "      <td>0.0</td>\n",
       "      <td>0.0</td>\n",
       "      <td>0.0</td>\n",
       "      <td>0.0</td>\n",
       "      <td>0.0</td>\n",
       "      <td>0.0</td>\n",
       "    </tr>\n",
       "    <tr>\n",
       "      <th>2</th>\n",
       "      <td>0.0</td>\n",
       "      <td>0.0</td>\n",
       "      <td>0.0</td>\n",
       "      <td>0.0</td>\n",
       "      <td>0.0</td>\n",
       "      <td>0.0</td>\n",
       "      <td>0.0</td>\n",
       "      <td>0.0</td>\n",
       "      <td>0.0</td>\n",
       "      <td>0.0</td>\n",
       "      <td>...</td>\n",
       "      <td>0.0</td>\n",
       "      <td>0.0</td>\n",
       "      <td>0.0</td>\n",
       "      <td>1.0</td>\n",
       "      <td>0.0</td>\n",
       "      <td>0.0</td>\n",
       "      <td>0.0</td>\n",
       "      <td>0.0</td>\n",
       "      <td>0.0</td>\n",
       "      <td>0.0</td>\n",
       "    </tr>\n",
       "    <tr>\n",
       "      <th>3</th>\n",
       "      <td>0.0</td>\n",
       "      <td>1.0</td>\n",
       "      <td>0.0</td>\n",
       "      <td>0.0</td>\n",
       "      <td>0.0</td>\n",
       "      <td>0.0</td>\n",
       "      <td>0.0</td>\n",
       "      <td>0.0</td>\n",
       "      <td>0.0</td>\n",
       "      <td>0.0</td>\n",
       "      <td>...</td>\n",
       "      <td>0.0</td>\n",
       "      <td>0.0</td>\n",
       "      <td>0.0</td>\n",
       "      <td>0.0</td>\n",
       "      <td>0.0</td>\n",
       "      <td>0.0</td>\n",
       "      <td>0.0</td>\n",
       "      <td>0.0</td>\n",
       "      <td>0.0</td>\n",
       "      <td>0.0</td>\n",
       "    </tr>\n",
       "    <tr>\n",
       "      <th>4</th>\n",
       "      <td>0.0</td>\n",
       "      <td>0.0</td>\n",
       "      <td>0.0</td>\n",
       "      <td>0.0</td>\n",
       "      <td>0.0</td>\n",
       "      <td>0.0</td>\n",
       "      <td>0.0</td>\n",
       "      <td>0.0</td>\n",
       "      <td>0.0</td>\n",
       "      <td>0.0</td>\n",
       "      <td>...</td>\n",
       "      <td>0.0</td>\n",
       "      <td>0.0</td>\n",
       "      <td>0.0</td>\n",
       "      <td>0.0</td>\n",
       "      <td>0.0</td>\n",
       "      <td>0.0</td>\n",
       "      <td>1.0</td>\n",
       "      <td>0.0</td>\n",
       "      <td>0.0</td>\n",
       "      <td>0.0</td>\n",
       "    </tr>\n",
       "  </tbody>\n",
       "</table>\n",
       "<p>5 rows × 64 columns</p>\n",
       "</div>"
      ],
      "text/plain": [
       "   is_male  converted  state_AA  state_AE  state_AK  state_AL  state_AP  \\\n",
       "0      1.0        1.0       0.0       0.0       0.0       0.0       0.0   \n",
       "1      0.0        0.0       0.0       0.0       0.0       0.0       0.0   \n",
       "2      0.0        0.0       0.0       0.0       0.0       0.0       0.0   \n",
       "3      0.0        1.0       0.0       0.0       0.0       0.0       0.0   \n",
       "4      0.0        0.0       0.0       0.0       0.0       0.0       0.0   \n",
       "\n",
       "   state_AR  state_AS  state_AZ  ...  state_TN  state_TX  state_UT  state_VA  \\\n",
       "0       0.0       0.0       0.0  ...       0.0       0.0       0.0       0.0   \n",
       "1       0.0       0.0       0.0  ...       0.0       0.0       0.0       0.0   \n",
       "2       0.0       0.0       0.0  ...       0.0       0.0       0.0       1.0   \n",
       "3       0.0       0.0       0.0  ...       0.0       0.0       0.0       0.0   \n",
       "4       0.0       0.0       0.0  ...       0.0       0.0       0.0       0.0   \n",
       "\n",
       "   state_VI  state_VT  state_WA  state_WI  state_WV  state_WY  \n",
       "0       0.0       0.0       1.0       0.0       0.0       0.0  \n",
       "1       0.0       0.0       0.0       0.0       0.0       0.0  \n",
       "2       0.0       0.0       0.0       0.0       0.0       0.0  \n",
       "3       0.0       0.0       0.0       0.0       0.0       0.0  \n",
       "4       0.0       0.0       1.0       0.0       0.0       0.0  \n",
       "\n",
       "[5 rows x 64 columns]"
      ]
     },
     "execution_count": 63,
     "metadata": {},
     "output_type": "execute_result"
    }
   ],
   "source": [
    "df_states_and_gender_w_dummies_floats.head()"
   ]
  },
  {
   "cell_type": "code",
   "execution_count": 64,
   "metadata": {},
   "outputs": [
    {
     "name": "stdout",
     "output_type": "stream",
     "text": [
      "Test 1 Accuracy:\t0.76968\n",
      "[-1.16110091 -1.25838468 -1.18285846 ... -1.26337356 -1.25175569\n",
      " -1.19260366]\n",
      "-1.2231342488036572\n"
     ]
    },
    {
     "data": {
      "image/png": "[encoded data removed]",
      "text/plain": [
       "<Figure size 576x432 with 2 Axes>"
      ]
     },
     "metadata": {
      "needs_background": "light"
     },
     "output_type": "display_data"
    }
   ],
   "source": [
    "# state and gender\n",
    "# without score\n",
    "# X = df.drop(columns=['converted', 'score', 'attended_webinar_bool', 'registered_for_webinar_bool'])\n",
    "df = df_states_and_gender_w_dummies_floats\n",
    "X = df.drop(columns='converted')\n",
    "y = df.converted\n",
    "\n",
    "for i in range(1, 2):\n",
    "    X_train, X_test, y_train, y_test = model_selection.train_test_split(X,y,test_size=.25, random_state=None)\n",
    "\n",
    "    clf = linear_model.LogisticRegression(random_state=None, solver='lbfgs', n_jobs=-1)\n",
    "    clf.fit(X_train, y_train)\n",
    "    accuracy = clf.score(X_test, y_test)\n",
    "    print('Test {0} Accuracy:\\t{1}'.format(i, accuracy))\n",
    "    \n",
    "pickle_classifier('..\\\\classifiers\\\\logistic_regression_categorical_state_and_gender_wo_score.pickle', clf)\n",
    "\n",
    "y_pred = clf.predict(X_test)\n",
    "cm = confusion_matrix(y_test, y_pred)\n",
    "\n",
    "print(clf.decision_function(X))\n",
    "print(clf.decision_function(X).mean())\n",
    "pd.DataFrame(clf.decision_function(X)>0).describe()\n",
    "\n",
    "plot_confusion_matrix(cm           = cm, \n",
    "                      normalize    = False,\n",
    "                      target_names = ['No', 'Yes'],\n",
    "                      title        = \"Confusion Matrix -- Logistic Regression\")"
   ]
  },
  {
   "cell_type": "code",
   "execution_count": 69,
   "metadata": {},
   "outputs": [
    {
     "data": {
      "image/png": "[encoded data removed]",
      "text/plain": [
       "<Figure size 432x288 with 1 Axes>"
      ]
     },
     "metadata": {
      "needs_background": "light"
     },
     "output_type": "display_data"
    }
   ],
   "source": [
    "df_log = pd.DataFrame({'IV': list(X.columns), 'coef':clf.coef_.tolist()[0]})\n",
    "df_log.append({'IV':'intercept', 'coef':clf.intercept_[0]}, ignore_index=True)\n",
    "\n",
    "df_log = df_log[abs(df_log['coef']) >= 0.08]\n",
    "\n",
    "plt.bar(df_log['IV'], df_log['coef'])\n",
    "plt.show()"
   ]
  },
  {
   "cell_type": "code",
   "execution_count": 55,
   "metadata": {},
   "outputs": [
    {
     "name": "stdout",
     "output_type": "stream",
     "text": [
      "              precision    recall  f1-score   support\n",
      "\n",
      "           0       0.77      1.00      0.87     19199\n",
      "           1       0.00      0.00      0.00      5801\n",
      "\n",
      "   micro avg       0.77      0.77      0.77     25000\n",
      "   macro avg       0.38      0.50      0.43     25000\n",
      "weighted avg       0.59      0.77      0.67     25000\n",
      "\n"
     ]
    },
    {
     "name": "stderr",
     "output_type": "stream",
     "text": [
      "C:\\Users\\MThomas\\AppData\\Local\\Programs\\Python\\Python37-32\\lib\\site-packages\\sklearn\\metrics\\classification.py:1143: UndefinedMetricWarning: Precision and F-score are ill-defined and being set to 0.0 in labels with no predicted samples.\n",
      "  'precision', 'predicted', average, warn_for)\n"
     ]
    }
   ],
   "source": [
    "print(classification_report(y_test, y_pred))"
   ]
  },
  {
   "cell_type": "code",
   "execution_count": 11,
   "metadata": {},
   "outputs": [],
   "source": [
    "# with score\n",
    "# X = df.drop(columns=['converted'])\n",
    "# y = df.converted\n",
    "\n",
    "# for i in range(1, 2):\n",
    "#     X_train, X_test, y_train, y_test = model_selection.train_test_split(X,y,test_size=.25, random_state=None)\n",
    "\n",
    "#     clf = linear_model.LogisticRegression(random_state=None, solver='lbfgs', n_jobs=-1)\n",
    "#     clf.fit(X_train, y_train)\n",
    "#     accuracy = clf.score(X_test, y_test)\n",
    "#     print('Test {0} Accuracy:\\t{1}'.format(i, accuracy))\n",
    "    \n",
    "# pickle_classifier('..\\\\classifiers\\\\logistic_regression_categorical_attendwebinar_w_score.pickle', clf)\n",
    "\n",
    "# y_pred = clf.predict(X_test)\n",
    "# cm = confusion_matrix(y_test, y_pred)\n",
    "\n",
    "# print(clf.decision_function(X))\n",
    "# print(clf.decision_function(X).mean())\n",
    "# pd.DataFrame(clf.decision_function(X)>0).describe()\n",
    "\n",
    "# plot_confusion_matrix(cm           = cm, \n",
    "#                       normalize    = False,\n",
    "#                       target_names = ['No', 'Yes'],\n",
    "#                       title        = \"Confusion Matrix -- Logistic Regression\")"
   ]
  },
  {
   "cell_type": "markdown",
   "metadata": {},
   "source": [
    "## Linear Regression"
   ]
  },
  {
   "cell_type": "code",
   "execution_count": 19,
   "metadata": {
    "scrolled": false
   },
   "outputs": [
    {
     "name": "stdout",
     "output_type": "stream",
     "text": [
      "Test 1 Accuracy:\t-0.00028535422494035956\n"
     ]
    },
    {
     "data": {
      "image/png": "[encoded data removed]",
      "text/plain": [
       "<Figure size 576x432 with 2 Axes>"
      ]
     },
     "metadata": {
      "needs_background": "light"
     },
     "output_type": "display_data"
    }
   ],
   "source": [
    "# without score\n",
    "X = df.drop(columns=['converted', 'score', 'attended_webinar_bool', 'registered_for_webinar_bool'])\n",
    "y = df.attended_webinar_bool\n",
    "\n",
    "for i in range(1, 2):\n",
    "    X_train, X_test, y_train, y_test = model_selection.train_test_split(X,y,test_size=.25, random_state=None)\n",
    "\n",
    "    clf = linear_model.LinearRegression(n_jobs=-1)\n",
    "    clf.fit(X_train, y_train)\n",
    "    accuracy = clf.score(X_test, y_test)\n",
    "    print('Test {0} Accuracy:\\t{1}'.format(i, accuracy))\n",
    "    \n",
    "pickle_classifier('..\\\\classifiers\\\\linear_regression_categorical_attendwebinar_wo_score.pickle', clf)\n",
    "\n",
    "y_pred = clf.predict(X_test)\n",
    "y_pred = [0 if c <= 0.5 else 1 for c in y_pred]\n",
    "cm = confusion_matrix(y_test, y_pred)\n",
    "\n",
    "plot_confusion_matrix(cm           = cm, \n",
    "                      normalize    = False,\n",
    "                      target_names = ['No', 'Yes'],\n",
    "                      title        = \"Confusion Matrix -- Linear Regression\")"
   ]
  },
  {
   "cell_type": "code",
   "execution_count": 20,
   "metadata": {},
   "outputs": [
    {
     "data": {
      "text/html": [
       "<div>\n",
       "<style scoped>\n",
       "    .dataframe tbody tr th:only-of-type {\n",
       "        vertical-align: middle;\n",
       "    }\n",
       "\n",
       "    .dataframe tbody tr th {\n",
       "        vertical-align: top;\n",
       "    }\n",
       "\n",
       "    .dataframe thead th {\n",
       "        text-align: right;\n",
       "    }\n",
       "</style>\n",
       "<table border=\"1\" class=\"dataframe\">\n",
       "  <thead>\n",
       "    <tr style=\"text-align: right;\">\n",
       "      <th></th>\n",
       "      <th>IV</th>\n",
       "      <th>coef</th>\n",
       "    </tr>\n",
       "  </thead>\n",
       "  <tbody>\n",
       "    <tr>\n",
       "      <th>0</th>\n",
       "      <td>completed_form_bool</td>\n",
       "      <td>1.431602e-03</td>\n",
       "    </tr>\n",
       "    <tr>\n",
       "      <th>1</th>\n",
       "      <td>is_director</td>\n",
       "      <td>-4.374163e-03</td>\n",
       "    </tr>\n",
       "    <tr>\n",
       "      <th>2</th>\n",
       "      <td>is_male</td>\n",
       "      <td>3.186628e-03</td>\n",
       "    </tr>\n",
       "    <tr>\n",
       "      <th>3</th>\n",
       "      <td>visited_pricing_bool</td>\n",
       "      <td>-4.990673e-03</td>\n",
       "    </tr>\n",
       "    <tr>\n",
       "      <th>4</th>\n",
       "      <td>acquisition_channel_Cold Call</td>\n",
       "      <td>-3.703957e+09</td>\n",
       "    </tr>\n",
       "    <tr>\n",
       "      <th>5</th>\n",
       "      <td>acquisition_channel_Cold Email</td>\n",
       "      <td>-3.703957e+09</td>\n",
       "    </tr>\n",
       "    <tr>\n",
       "      <th>6</th>\n",
       "      <td>acquisition_channel_Organic Search</td>\n",
       "      <td>-3.703957e+09</td>\n",
       "    </tr>\n",
       "    <tr>\n",
       "      <th>7</th>\n",
       "      <td>acquisition_channel_Paid Leads</td>\n",
       "      <td>-3.703957e+09</td>\n",
       "    </tr>\n",
       "    <tr>\n",
       "      <th>8</th>\n",
       "      <td>acquisition_channel_Paid Search</td>\n",
       "      <td>-3.703957e+09</td>\n",
       "    </tr>\n",
       "    <tr>\n",
       "      <th>9</th>\n",
       "      <td>industry_Financial Services</td>\n",
       "      <td>2.473811e+09</td>\n",
       "    </tr>\n",
       "    <tr>\n",
       "      <th>10</th>\n",
       "      <td>industry_Furniture</td>\n",
       "      <td>2.473811e+09</td>\n",
       "    </tr>\n",
       "    <tr>\n",
       "      <th>11</th>\n",
       "      <td>industry_Heavy Manufacturing</td>\n",
       "      <td>2.473811e+09</td>\n",
       "    </tr>\n",
       "    <tr>\n",
       "      <th>12</th>\n",
       "      <td>industry_Scandanavion Design</td>\n",
       "      <td>2.473811e+09</td>\n",
       "    </tr>\n",
       "    <tr>\n",
       "      <th>13</th>\n",
       "      <td>industry_Transportation</td>\n",
       "      <td>2.473811e+09</td>\n",
       "    </tr>\n",
       "    <tr>\n",
       "      <th>14</th>\n",
       "      <td>industry_Web &amp; Internet</td>\n",
       "      <td>2.473811e+09</td>\n",
       "    </tr>\n",
       "    <tr>\n",
       "      <th>15</th>\n",
       "      <td>intercept</td>\n",
       "      <td>1.230146e+09</td>\n",
       "    </tr>\n",
       "  </tbody>\n",
       "</table>\n",
       "</div>"
      ],
      "text/plain": [
       "                                    IV          coef\n",
       "0                  completed_form_bool  1.431602e-03\n",
       "1                          is_director -4.374163e-03\n",
       "2                              is_male  3.186628e-03\n",
       "3                 visited_pricing_bool -4.990673e-03\n",
       "4        acquisition_channel_Cold Call -3.703957e+09\n",
       "5       acquisition_channel_Cold Email -3.703957e+09\n",
       "6   acquisition_channel_Organic Search -3.703957e+09\n",
       "7       acquisition_channel_Paid Leads -3.703957e+09\n",
       "8      acquisition_channel_Paid Search -3.703957e+09\n",
       "9          industry_Financial Services  2.473811e+09\n",
       "10                  industry_Furniture  2.473811e+09\n",
       "11        industry_Heavy Manufacturing  2.473811e+09\n",
       "12        industry_Scandanavion Design  2.473811e+09\n",
       "13             industry_Transportation  2.473811e+09\n",
       "14             industry_Web & Internet  2.473811e+09\n",
       "15                           intercept  1.230146e+09"
      ]
     },
     "execution_count": 20,
     "metadata": {},
     "output_type": "execute_result"
    }
   ],
   "source": [
    "df_log = pd.DataFrame({'IV': list(X.columns), 'coef':clf.coef_.tolist()})\n",
    "df_log.append({'IV':'intercept', 'coef':clf.intercept_}, ignore_index=True)"
   ]
  },
  {
   "cell_type": "code",
   "execution_count": 21,
   "metadata": {},
   "outputs": [
    {
     "name": "stdout",
     "output_type": "stream",
     "text": [
      "              precision    recall  f1-score   support\n",
      "\n",
      "         0.0       0.90      1.00      0.95     22489\n",
      "         1.0       0.00      0.00      0.00      2511\n",
      "\n",
      "   micro avg       0.90      0.90      0.90     25000\n",
      "   macro avg       0.45      0.50      0.47     25000\n",
      "weighted avg       0.81      0.90      0.85     25000\n",
      "\n"
     ]
    },
    {
     "name": "stderr",
     "output_type": "stream",
     "text": [
      "C:\\Users\\MThomas\\AppData\\Local\\Programs\\Python\\Python37-32\\lib\\site-packages\\sklearn\\metrics\\classification.py:1143: UndefinedMetricWarning: Precision and F-score are ill-defined and being set to 0.0 in labels with no predicted samples.\n",
      "  'precision', 'predicted', average, warn_for)\n"
     ]
    }
   ],
   "source": [
    "print(classification_report(y_test, y_pred))"
   ]
  },
  {
   "cell_type": "code",
   "execution_count": 13,
   "metadata": {},
   "outputs": [],
   "source": [
    "# with score\n",
    "# X = df.drop(columns=['converted'])\n",
    "# y = df.converted\n",
    "\n",
    "# for i in range(1, 2):\n",
    "#     X_train, X_test, y_train, y_test = model_selection.train_test_split(X,y,test_size=.25, random_state=None)\n",
    "\n",
    "#     clf = linear_model.LinearRegression(n_jobs=-1)\n",
    "#     clf.fit(X_train, y_train)\n",
    "#     accuracy = clf.score(X_test, y_test)\n",
    "#     print('Test {0} Accuracy:\\t{1}'.format(i, accuracy))\n",
    "    \n",
    "# pickle_classifier('..\\\\classifiers\\\\linear_regression_categorical_attendwebinar_w_score.pickle', clf)\n",
    "\n",
    "# y_pred = clf.predict(X_test)\n",
    "# y_pred = [0 if c <= 0.5 else 1 for c in y_pred]\n",
    "# cm = confusion_matrix(y_test, y_pred)\n",
    "\n",
    "# plot_confusion_matrix(cm           = cm, \n",
    "#                       normalize    = False,\n",
    "#                       target_names = ['No', 'Yes'],\n",
    "#                       title        = \"Confusion Matrix -- Linear Regression\")"
   ]
  },
  {
   "cell_type": "markdown",
   "metadata": {},
   "source": [
    "## K Nearest Neighbor (KNN)"
   ]
  },
  {
   "cell_type": "markdown",
   "metadata": {},
   "source": [
    "#### KNN Regressor"
   ]
  },
  {
   "cell_type": "code",
   "execution_count": 17,
   "metadata": {},
   "outputs": [
    {
     "name": "stdout",
     "output_type": "stream",
     "text": [
      "Test 1 Accuracy:\t0.3416422002161158\n"
     ]
    },
    {
     "data": {
      "image/png": "[encoded data removed]",
      "text/plain": [
       "<Figure size 576x432 with 2 Axes>"
      ]
     },
     "metadata": {},
     "output_type": "display_data"
    }
   ],
   "source": [
    "# without score\n",
    "X = df.drop(columns=['converted', 'score', 'attended_webinar_bool'])\n",
    "y = df.attended_webinar_bool\n",
    "\n",
    "for i in range(1, 2):\n",
    "    X_train, X_test, y_train, y_test = model_selection.train_test_split(X,y,test_size=.25, random_state=None)\n",
    "\n",
    "    clf = neighbors.KNeighborsRegressor(n_neighbors=5, n_jobs=-1)\n",
    "    clf.fit(X_train, y_train)\n",
    "    accuracy = clf.score(X_test, y_test)\n",
    "    print('Test {0} Accuracy:\\t{1}'.format(i, accuracy))\n",
    "    \n",
    "pickle_classifier('..\\\\classifiers\\\\knn_regressor_categorical_attendwebinar_wo_score.pickle', clf)\n",
    "\n",
    "y_pred = clf.predict(X_test)\n",
    "y_pred = [0 if c <= 0.5 else 1 for c in y_pred]\n",
    "cm = confusion_matrix(y_test, y_pred)\n",
    "\n",
    "plot_confusion_matrix(cm           = cm, \n",
    "                      normalize    = False,\n",
    "                      target_names = ['No', 'Yes'],\n",
    "                      title        = \"Confusion Matrix -- KNN Regressor\")"
   ]
  },
  {
   "cell_type": "code",
   "execution_count": 15,
   "metadata": {},
   "outputs": [],
   "source": [
    "# with score\n",
    "# X = df.drop(columns=['converted'])\n",
    "# y = df.converted\n",
    "\n",
    "# for i in range(1, 2):\n",
    "#     X_train, X_test, y_train, y_test = model_selection.train_test_split(X,y,test_size=.25, random_state=None)\n",
    "\n",
    "#     clf = neighbors.KNeighborsRegressor(n_neighbors=5, n_jobs=-1)\n",
    "#     clf.fit(X_train, y_train)\n",
    "#     accuracy = clf.score(X_test, y_test)\n",
    "#     print('Test {0} Accuracy:\\t{1}'.format(i, accuracy))\n",
    "    \n",
    "# pickle_classifier('..\\\\classifiers\\\\knn_regressor_categorical_attendwebinar_w_score.pickle', clf)\n",
    "\n",
    "# y_pred = clf.predict(X_test)\n",
    "# y_pred = [0 if c <= 0.5 else 1 for c in y_pred]\n",
    "# cm = confusion_matrix(y_test, y_pred)\n",
    "\n",
    "# plot_confusion_matrix(cm           = cm, \n",
    "#                       normalize    = False,\n",
    "#                       target_names = ['No', 'Yes'],\n",
    "#                       title        = \"Confusion Matrix -- KNN Regressor\")"
   ]
  },
  {
   "cell_type": "markdown",
   "metadata": {},
   "source": [
    "#### KNN Classifier"
   ]
  },
  {
   "cell_type": "code",
   "execution_count": 16,
   "metadata": {},
   "outputs": [
    {
     "name": "stdout",
     "output_type": "stream",
     "text": [
      "Test 1 Accuracy:\t0.9002\n"
     ]
    },
    {
     "data": {
      "image/png": "[encoded data removed]",
      "text/plain": [
       "<Figure size 576x432 with 2 Axes>"
      ]
     },
     "metadata": {},
     "output_type": "display_data"
    }
   ],
   "source": [
    "# without score\n",
    "X = df.drop(columns=['converted', 'score', 'attended_webinar_bool'])\n",
    "y = df.attended_webinar_bool\n",
    "\n",
    "for i in range(1, 2):\n",
    "    X_train, X_test, y_train, y_test = model_selection.train_test_split(X,y,test_size=.25, random_state=None)\n",
    "\n",
    "    clf = neighbors.KNeighborsClassifier(n_neighbors=5, n_jobs=-1)\n",
    "    clf.fit(X_train, y_train)\n",
    "    accuracy = clf.score(X_test, y_test)\n",
    "    print('Test {0} Accuracy:\\t{1}'.format(i, accuracy))\n",
    "    \n",
    "pickle_classifier('..\\\\classifiers\\\\knn_classifier_categorical_attendwebinar_wo_score.pickle', clf)\n",
    "\n",
    "y_pred = clf.predict(X_test)\n",
    "cm = confusion_matrix(y_test, y_pred)\n",
    "\n",
    "plot_confusion_matrix(cm           = cm, \n",
    "                      normalize    = False,\n",
    "                      target_names = ['No', 'Yes'],\n",
    "                      title        = \"Confusion Matrix -- KNN Classifier\")"
   ]
  },
  {
   "cell_type": "code",
   "execution_count": 18,
   "metadata": {},
   "outputs": [],
   "source": [
    "# with score\n",
    "# X = df.drop(columns=['converted'])\n",
    "# y = df.converted\n",
    "\n",
    "# for i in range(1, 2):\n",
    "#     X_train, X_test, y_train, y_test = model_selection.train_test_split(X,y,test_size=.25, random_state=None)\n",
    "\n",
    "#     clf = neighbors.KNeighborsClassifier(n_neighbors=5, n_jobs=-1)\n",
    "#     clf.fit(X_train, y_train)\n",
    "#     accuracy = clf.score(X_test, y_test)\n",
    "#     print('Test {0} Accuracy:\\t{1}'.format(i, accuracy))\n",
    "    \n",
    "# pickle_classifier('..\\\\classifiers\\\\knn_classifier_categorical_attendwebinar_w_score.pickle', clf)\n",
    "\n",
    "# y_pred = clf.predict(X_test)\n",
    "# cm = confusion_matrix(y_test, y_pred)\n",
    "\n",
    "# plot_confusion_matrix(cm           = cm, \n",
    "#                       normalize    = False,\n",
    "#                       target_names = ['No', 'Yes'],\n",
    "#                       title        = \"Confusion Matrix -- KNN Classifier\")"
   ]
  },
  {
   "cell_type": "code",
   "execution_count": 22,
   "metadata": {},
   "outputs": [],
   "source": [
    "\n",
    "\n"
   ]
  },
  {
   "cell_type": "code",
   "execution_count": null,
   "metadata": {},
   "outputs": [],
   "source": []
  }
 ],
 "metadata": {
  "jupytext": {
   "formats": "notebooks//ipynb,scripts//py"
  },
  "kernelspec": {
   "display_name": "Python 3",
   "language": "python",
   "name": "python3"
  },
  "language_info": {
   "codemirror_mode": {
    "name": "ipython",
    "version": 3
   },
   "file_extension": ".py",
   "mimetype": "text/x-python",
   "name": "python",
   "nbconvert_exporter": "python",
   "pygments_lexer": "ipython3",
   "version": "3.7.3"
  }
 },
 "nbformat": 4,
 "nbformat_minor": 2
}
