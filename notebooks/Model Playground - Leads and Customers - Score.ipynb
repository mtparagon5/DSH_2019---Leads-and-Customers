{
 "cells": [
  {
   "cell_type": "code",
   "execution_count": 1,
   "metadata": {},
   "outputs": [],
   "source": [
    "import pandas as pd\n",
    "import numpy as np\n",
    "import matplotlib.pyplot as plt\n",
    "import pickle, random\n",
    "\n",
    "import sklearn\n",
    "from sklearn import ensemble, model_selection, preprocessing, tree, linear_model, neighbors\n",
    "from sklearn.metrics import confusion_matrix\n",
    "from yellowbrick.classifier import ROCAUC\n",
    "from yellowbrick.classifier import ClassificationReport, ConfusionMatrix"
   ]
  },
  {
   "cell_type": "markdown",
   "metadata": {},
   "source": [
    "### I'm using  plot_confusion_matrix  function taken from kernel found on Kaggle\n",
    "####  Credit to [George Fisher](https://www.kaggle.com/grfiv4/plot-a-confusion-matrix/notebook) who has licensed it under an [Apache 2.0](https://www.apache.org/licenses/LICENSE-2.0)  open source license"
   ]
  },
  {
   "cell_type": "code",
   "execution_count": 2,
   "metadata": {},
   "outputs": [],
   "source": [
    "def plot_confusion_matrix(cm,\n",
    "                          target_names,\n",
    "                          title='Confusion matrix',\n",
    "                          cmap=None,\n",
    "                          normalize=True):\n",
    "    \"\"\"\n",
    "    given a sklearn confusion matrix (cm), make a nice plot\n",
    "\n",
    "    Arguments\n",
    "    ---------\n",
    "    cm:           confusion matrix from sklearn.metrics.confusion_matrix\n",
    "\n",
    "    target_names: given classification classes such as [0, 1, 2]\n",
    "                  the class names, for example: ['high', 'medium', 'low']\n",
    "\n",
    "    title:        the text to display at the top of the matrix\n",
    "\n",
    "    cmap:         the gradient of the values displayed from matplotlib.pyplot.cm\n",
    "                  see http://matplotlib.org/examples/color/colormaps_reference.html\n",
    "                  plt.get_cmap('jet') or plt.cm.Blues\n",
    "\n",
    "    normalize:    If False, plot the raw numbers\n",
    "                  If True, plot the proportions\n",
    "\n",
    "    Usage\n",
    "    -----\n",
    "    plot_confusion_matrix(cm           = cm,                  # confusion matrix created by\n",
    "                                                              # sklearn.metrics.confusion_matrix\n",
    "                          normalize    = True,                # show proportions\n",
    "                          target_names = y_labels_vals,       # list of names of the classes\n",
    "                          title        = best_estimator_name) # title of graph\n",
    "\n",
    "    Citiation\n",
    "    ---------\n",
    "    http://scikit-learn.org/stable/auto_examples/model_selection/plot_confusion_matrix.html\n",
    "\n",
    "    \"\"\"\n",
    "    import matplotlib.pyplot as plt\n",
    "    import numpy as np\n",
    "    import itertools\n",
    "\n",
    "    accuracy = np.trace(cm) / float(np.sum(cm))\n",
    "    misclass = 1 - accuracy\n",
    "\n",
    "    if cmap is None:\n",
    "        cmap = plt.get_cmap('Blues')\n",
    "\n",
    "    plt.figure(figsize=(8, 6))\n",
    "    plt.imshow(cm, interpolation='nearest', cmap=cmap)\n",
    "    plt.title(title)\n",
    "    plt.colorbar()\n",
    "\n",
    "    if target_names is not None:\n",
    "        tick_marks = np.arange(len(target_names))\n",
    "        plt.xticks(tick_marks, target_names, rotation=45)\n",
    "        plt.yticks(tick_marks, target_names)\n",
    "\n",
    "    if normalize:\n",
    "        cm = cm.astype('float') / cm.sum(axis=1)[:, np.newaxis]\n",
    "\n",
    "\n",
    "    thresh = cm.max() / 1.5 if normalize else cm.max() / 2\n",
    "    for i, j in itertools.product(range(cm.shape[0]), range(cm.shape[1])):\n",
    "        if normalize:\n",
    "            plt.text(j, i, \"{:0.4f}\".format(cm[i, j]),\n",
    "                     horizontalalignment=\"center\",\n",
    "                     color=\"white\" if cm[i, j] > thresh else \"black\")\n",
    "        else:\n",
    "            plt.text(j, i, \"{:,}\".format(cm[i, j]),\n",
    "                     horizontalalignment=\"center\",\n",
    "                     color=\"white\" if cm[i, j] > thresh else \"black\")\n",
    "\n",
    "\n",
    "    plt.tight_layout()\n",
    "    plt.ylabel('True label')\n",
    "    plt.xlabel('Predicted label\\naccuracy={:0.4f}; misclass={:0.4f}'.format(accuracy, misclass))\n",
    "    plt.show()\n"
   ]
  },
  {
   "cell_type": "markdown",
   "metadata": {},
   "source": [
    "### A function for pickling the classifiers (not necessary)"
   ]
  },
  {
   "cell_type": "code",
   "execution_count": 3,
   "metadata": {},
   "outputs": [],
   "source": [
    "def pickle_classifier(filepath, classifier):\n",
    "    \"\"\"Function to automate the pickling of a classifier\n",
    "    \"\"\"\n",
    "    with open(filepath, 'wb') as f:\n",
    "        pickle.dump(classifier, f)\n",
    "\n",
    "def load_pickled_classifier(filepath):\n",
    "    \"\"\"Function to load a pickled classifier\n",
    "    \"\"\"\n",
    "    with open(filepath, 'rb') as f:\n",
    "        return pickle.load(f)"
   ]
  },
  {
   "cell_type": "code",
   "execution_count": 4,
   "metadata": {},
   "outputs": [],
   "source": [
    "df = pd.read_json('..\\\\data\\\\cleaned_df_numerical_columns_only.json')\n",
    "df = df.astype(float)\n",
    "# moving converted to last column (was thinking of using random.shuffle)\n",
    "df_score = df['score']\n",
    "df = df.drop(['score'], axis=1)\n",
    "df['score'] = df_score\n",
    "\n",
    "redundant_columns = [\n",
    "    'score_normalized',\n",
    "    'days_since_signup_normalized'\n",
    "]\n",
    "df.drop(redundant_columns, axis=1, inplace=True)"
   ]
  },
  {
   "cell_type": "code",
   "execution_count": 5,
   "metadata": {
    "scrolled": true
   },
   "outputs": [
    {
     "data": {
      "text/html": [
       "<div>\n",
       "<style scoped>\n",
       "    .dataframe tbody tr th:only-of-type {\n",
       "        vertical-align: middle;\n",
       "    }\n",
       "\n",
       "    .dataframe tbody tr th {\n",
       "        vertical-align: top;\n",
       "    }\n",
       "\n",
       "    .dataframe thead th {\n",
       "        text-align: right;\n",
       "    }\n",
       "</style>\n",
       "<table border=\"1\" class=\"dataframe\">\n",
       "  <thead>\n",
       "    <tr style=\"text-align: right;\">\n",
       "      <th></th>\n",
       "      <th>days_since_signup</th>\n",
       "      <th>completed_form</th>\n",
       "      <th>visited_pricing</th>\n",
       "      <th>registered_for_webinar</th>\n",
       "      <th>attended_webinar</th>\n",
       "      <th>converted</th>\n",
       "      <th>is_manager</th>\n",
       "      <th>acquisition_channel_cold_call</th>\n",
       "      <th>acquisition_channel_cold_email</th>\n",
       "      <th>acquisition_channel_organic_search</th>\n",
       "      <th>...</th>\n",
       "      <th>is_sales</th>\n",
       "      <th>is_marketing</th>\n",
       "      <th>is_other</th>\n",
       "      <th>is_web_ind</th>\n",
       "      <th>is_financials_ind</th>\n",
       "      <th>is_furniture_ind</th>\n",
       "      <th>is_transportation_ind</th>\n",
       "      <th>is_manufacturing_ind</th>\n",
       "      <th>is_scandesign_ind</th>\n",
       "      <th>score</th>\n",
       "    </tr>\n",
       "  </thead>\n",
       "  <tbody>\n",
       "    <tr>\n",
       "      <th>0</th>\n",
       "      <td>18.0</td>\n",
       "      <td>1.0</td>\n",
       "      <td>1.0</td>\n",
       "      <td>0.0</td>\n",
       "      <td>0.0</td>\n",
       "      <td>1.0</td>\n",
       "      <td>0.0</td>\n",
       "      <td>0.0</td>\n",
       "      <td>0.0</td>\n",
       "      <td>1.0</td>\n",
       "      <td>...</td>\n",
       "      <td>0.0</td>\n",
       "      <td>1.0</td>\n",
       "      <td>0.0</td>\n",
       "      <td>1.0</td>\n",
       "      <td>0.0</td>\n",
       "      <td>0.0</td>\n",
       "      <td>0.0</td>\n",
       "      <td>0.0</td>\n",
       "      <td>0.0</td>\n",
       "      <td>151.000000</td>\n",
       "    </tr>\n",
       "    <tr>\n",
       "      <th>1</th>\n",
       "      <td>3.0</td>\n",
       "      <td>1.0</td>\n",
       "      <td>0.0</td>\n",
       "      <td>1.0</td>\n",
       "      <td>0.0</td>\n",
       "      <td>0.0</td>\n",
       "      <td>1.0</td>\n",
       "      <td>0.0</td>\n",
       "      <td>0.0</td>\n",
       "      <td>1.0</td>\n",
       "      <td>...</td>\n",
       "      <td>0.0</td>\n",
       "      <td>0.0</td>\n",
       "      <td>1.0</td>\n",
       "      <td>1.0</td>\n",
       "      <td>0.0</td>\n",
       "      <td>0.0</td>\n",
       "      <td>0.0</td>\n",
       "      <td>0.0</td>\n",
       "      <td>0.0</td>\n",
       "      <td>141.358438</td>\n",
       "    </tr>\n",
       "    <tr>\n",
       "      <th>10</th>\n",
       "      <td>27.0</td>\n",
       "      <td>1.0</td>\n",
       "      <td>1.0</td>\n",
       "      <td>0.0</td>\n",
       "      <td>0.0</td>\n",
       "      <td>0.0</td>\n",
       "      <td>1.0</td>\n",
       "      <td>0.0</td>\n",
       "      <td>0.0</td>\n",
       "      <td>1.0</td>\n",
       "      <td>...</td>\n",
       "      <td>0.0</td>\n",
       "      <td>0.0</td>\n",
       "      <td>1.0</td>\n",
       "      <td>1.0</td>\n",
       "      <td>0.0</td>\n",
       "      <td>0.0</td>\n",
       "      <td>0.0</td>\n",
       "      <td>0.0</td>\n",
       "      <td>0.0</td>\n",
       "      <td>129.741042</td>\n",
       "    </tr>\n",
       "    <tr>\n",
       "      <th>100</th>\n",
       "      <td>0.0</td>\n",
       "      <td>1.0</td>\n",
       "      <td>1.0</td>\n",
       "      <td>0.0</td>\n",
       "      <td>0.0</td>\n",
       "      <td>0.0</td>\n",
       "      <td>0.0</td>\n",
       "      <td>0.0</td>\n",
       "      <td>0.0</td>\n",
       "      <td>1.0</td>\n",
       "      <td>...</td>\n",
       "      <td>0.0</td>\n",
       "      <td>0.0</td>\n",
       "      <td>1.0</td>\n",
       "      <td>0.0</td>\n",
       "      <td>0.0</td>\n",
       "      <td>0.0</td>\n",
       "      <td>0.0</td>\n",
       "      <td>1.0</td>\n",
       "      <td>0.0</td>\n",
       "      <td>86.848001</td>\n",
       "    </tr>\n",
       "    <tr>\n",
       "      <th>1000</th>\n",
       "      <td>19.0</td>\n",
       "      <td>0.0</td>\n",
       "      <td>1.0</td>\n",
       "      <td>0.0</td>\n",
       "      <td>0.0</td>\n",
       "      <td>0.0</td>\n",
       "      <td>0.0</td>\n",
       "      <td>0.0</td>\n",
       "      <td>0.0</td>\n",
       "      <td>1.0</td>\n",
       "      <td>...</td>\n",
       "      <td>0.0</td>\n",
       "      <td>1.0</td>\n",
       "      <td>0.0</td>\n",
       "      <td>0.0</td>\n",
       "      <td>0.0</td>\n",
       "      <td>0.0</td>\n",
       "      <td>0.0</td>\n",
       "      <td>1.0</td>\n",
       "      <td>0.0</td>\n",
       "      <td>69.539353</td>\n",
       "    </tr>\n",
       "  </tbody>\n",
       "</table>\n",
       "<p>5 rows × 43 columns</p>\n",
       "</div>"
      ],
      "text/plain": [
       "      days_since_signup  completed_form  visited_pricing  \\\n",
       "0                  18.0             1.0              1.0   \n",
       "1                   3.0             1.0              0.0   \n",
       "10                 27.0             1.0              1.0   \n",
       "100                 0.0             1.0              1.0   \n",
       "1000               19.0             0.0              1.0   \n",
       "\n",
       "      registered_for_webinar  attended_webinar  converted  is_manager  \\\n",
       "0                        0.0               0.0        1.0         0.0   \n",
       "1                        1.0               0.0        0.0         1.0   \n",
       "10                       0.0               0.0        0.0         1.0   \n",
       "100                      0.0               0.0        0.0         0.0   \n",
       "1000                     0.0               0.0        0.0         0.0   \n",
       "\n",
       "      acquisition_channel_cold_call  acquisition_channel_cold_email  \\\n",
       "0                               0.0                             0.0   \n",
       "1                               0.0                             0.0   \n",
       "10                              0.0                             0.0   \n",
       "100                             0.0                             0.0   \n",
       "1000                            0.0                             0.0   \n",
       "\n",
       "      acquisition_channel_organic_search  ...  is_sales  is_marketing  \\\n",
       "0                                    1.0  ...       0.0           1.0   \n",
       "1                                    1.0  ...       0.0           0.0   \n",
       "10                                   1.0  ...       0.0           0.0   \n",
       "100                                  1.0  ...       0.0           0.0   \n",
       "1000                                 1.0  ...       0.0           1.0   \n",
       "\n",
       "      is_other  is_web_ind  is_financials_ind  is_furniture_ind  \\\n",
       "0          0.0         1.0                0.0               0.0   \n",
       "1          1.0         1.0                0.0               0.0   \n",
       "10         1.0         1.0                0.0               0.0   \n",
       "100        1.0         0.0                0.0               0.0   \n",
       "1000       0.0         0.0                0.0               0.0   \n",
       "\n",
       "      is_transportation_ind  is_manufacturing_ind  is_scandesign_ind  \\\n",
       "0                       0.0                   0.0                0.0   \n",
       "1                       0.0                   0.0                0.0   \n",
       "10                      0.0                   0.0                0.0   \n",
       "100                     0.0                   1.0                0.0   \n",
       "1000                    0.0                   1.0                0.0   \n",
       "\n",
       "           score  \n",
       "0     151.000000  \n",
       "1     141.358438  \n",
       "10    129.741042  \n",
       "100    86.848001  \n",
       "1000   69.539353  \n",
       "\n",
       "[5 rows x 43 columns]"
      ]
     },
     "execution_count": 5,
     "metadata": {},
     "output_type": "execute_result"
    }
   ],
   "source": [
    "df.head()"
   ]
  },
  {
   "cell_type": "markdown",
   "metadata": {},
   "source": [
    "### Random Forest"
   ]
  },
  {
   "cell_type": "code",
   "execution_count": 6,
   "metadata": {},
   "outputs": [],
   "source": [
    "X = df.drop(columns=['score'])\n",
    "X = preprocessing.scale(X)\n",
    "y = df.score"
   ]
  },
  {
   "cell_type": "code",
   "execution_count": 8,
   "metadata": {},
   "outputs": [],
   "source": [
    "# for i in range(1, 11):\n",
    "#     X_train, X_test, y_train, y_test = model_selection.train_test_split(X,y,test_size=.25, random_state=None)\n",
    "\n",
    "#     n_trees = 500\n",
    "#     clf = ensemble.RandomForestClassifier(max_features='auto', n_estimators=n_trees, random_state=None, n_jobs=-1)\n",
    "#     clf.fit(X_train, y_train)\n",
    "#     accuracy = clf.score(X_test, y_test)\n",
    "#     print('Test {0} Accuracy:\\t{1}'.format(i, accuracy))\n",
    "    \n",
    "# pickle_classifier('..\\\\classifiers\\\\random_forest_score.pickle', clf)"
   ]
  },
  {
   "cell_type": "code",
   "execution_count": 9,
   "metadata": {},
   "outputs": [],
   "source": [
    "# y_pred = clf.predict(X_test)\n",
    "# cm = confusion_matrix(y_test, y_pred)\n",
    "# cm"
   ]
  },
  {
   "cell_type": "code",
   "execution_count": 10,
   "metadata": {},
   "outputs": [],
   "source": [
    "# plot_confusion_matrix(cm           = cm, \n",
    "#                       normalize    = False,\n",
    "#                       target_names = ['No', 'Yes'],\n",
    "#                       title        = \"Confusion Matrix -- Random Forest\")"
   ]
  },
  {
   "cell_type": "code",
   "execution_count": 11,
   "metadata": {
    "scrolled": true
   },
   "outputs": [],
   "source": [
    "# print(clf.decision_path(X))\n",
    "# print(clf.feature_importances_)"
   ]
  },
  {
   "cell_type": "markdown",
   "metadata": {},
   "source": [
    "##### ROC Curve"
   ]
  },
  {
   "cell_type": "code",
   "execution_count": null,
   "metadata": {},
   "outputs": [],
   "source": [
    "# fig, ax = plt.subplots(figsize=(10,10))\n",
    "# roc_viz = ROCAUC(clf)\n",
    "# roc_viz.score(X_test,y_test)\n",
    "\n",
    "# roc_viz.poof()"
   ]
  },
  {
   "cell_type": "markdown",
   "metadata": {},
   "source": [
    "## Logistic Regression"
   ]
  },
  {
   "cell_type": "code",
   "execution_count": 12,
   "metadata": {},
   "outputs": [],
   "source": [
    "X = df.drop(columns=['score'])\n",
    "X = preprocessing.scale(X)\n",
    "y = df.score"
   ]
  },
  {
   "cell_type": "code",
   "execution_count": 14,
   "metadata": {},
   "outputs": [],
   "source": [
    "# for i in range(1, 11):\n",
    "#     X_train, X_test, y_train, y_test = model_selection.train_test_split(X,y,test_size=.25, random_state=None)\n",
    "\n",
    "#     clf = linear_model.LogisticRegression(random_state=None, solver='lbfgs', n_jobs=-1)\n",
    "#     clf.fit(X_train, y_train)\n",
    "#     accuracy = clf.score(X_test, y_test)\n",
    "#     print('Test {0} Accuracy:\\t{1}'.format(i, accuracy))\n",
    "    \n",
    "# pickle_classifier('..\\\\classifiers\\\\logistic_regression_score.pickle', clf)"
   ]
  },
  {
   "cell_type": "code",
   "execution_count": 15,
   "metadata": {},
   "outputs": [],
   "source": [
    "# y_pred = clf.predict(X_test)\n",
    "# cm = confusion_matrix(y_test, y_pred)\n",
    "# cm"
   ]
  },
  {
   "cell_type": "code",
   "execution_count": 16,
   "metadata": {},
   "outputs": [],
   "source": [
    "# print(clf.decision_function(X))\n",
    "# print(clf.decision_function(X).mean())\n",
    "# pd.DataFrame(clf.decision_function(X)>0).describe()"
   ]
  },
  {
   "cell_type": "code",
   "execution_count": 17,
   "metadata": {},
   "outputs": [],
   "source": [
    "# plot_confusion_matrix(cm           = cm, \n",
    "#                       normalize    = False,\n",
    "#                       target_names = ['No', 'Yes'],\n",
    "#                       title        = \"Confusion Matrix -- Logistic Regression\")"
   ]
  },
  {
   "cell_type": "markdown",
   "metadata": {},
   "source": [
    "## Linear Regression"
   ]
  },
  {
   "cell_type": "code",
   "execution_count": 18,
   "metadata": {
    "scrolled": true
   },
   "outputs": [],
   "source": [
    "X = df.drop(columns=['score'])\n",
    "X = preprocessing.scale(X)\n",
    "y = df.score"
   ]
  },
  {
   "cell_type": "code",
   "execution_count": 19,
   "metadata": {},
   "outputs": [
    {
     "name": "stdout",
     "output_type": "stream",
     "text": [
      "Test 1 Accuracy:\t0.5854110781446422\n",
      "Test 2 Accuracy:\t0.5875150507022473\n",
      "Test 3 Accuracy:\t0.5789705829601716\n",
      "Test 4 Accuracy:\t0.590978929794437\n",
      "Test 5 Accuracy:\t0.5862141017866584\n",
      "Test 6 Accuracy:\t0.5837419042911598\n",
      "Test 7 Accuracy:\t0.5990813579460126\n",
      "Test 8 Accuracy:\t0.5862172311379583\n",
      "Test 9 Accuracy:\t0.5964103373791259\n",
      "Test 10 Accuracy:\t0.5896656044189892\n"
     ]
    }
   ],
   "source": [
    "for i in range(1, 11):\n",
    "    X_train, X_test, y_train, y_test = model_selection.train_test_split(X,y,test_size=.25, random_state=None)\n",
    "\n",
    "    clf = linear_model.LinearRegression(n_jobs=-1)\n",
    "    clf.fit(X_train, y_train)\n",
    "    accuracy = clf.score(X_test, y_test)\n",
    "    print('Test {0} Accuracy:\\t{1}'.format(i, accuracy))\n",
    "    \n",
    "pickle_classifier('..\\\\classifiers\\\\linear_regression_score.pickle', clf)"
   ]
  },
  {
   "cell_type": "code",
   "execution_count": 29,
   "metadata": {},
   "outputs": [
    {
     "data": {
      "text/plain": [
       "array([238.42177235, 109.11708485, 104.64833485, ..., 105.2459911 ,\n",
       "        73.61854969, 110.38270985])"
      ]
     },
     "execution_count": 29,
     "metadata": {},
     "output_type": "execute_result"
    }
   ],
   "source": [
    "y_pred = clf.predict(X_test)\n",
    "# y_pred = [0 if c <= 150 else 1 for c in y_pred]\n",
    "y_pred\n",
    "# cm = confusion_matrix(y_test, y_pred)\n",
    "# cm"
   ]
  },
  {
   "cell_type": "code",
   "execution_count": 28,
   "metadata": {},
   "outputs": [],
   "source": [
    "# plot_confusion_matrix(cm           = cm, \n",
    "#                       normalize    = False,\n",
    "#                       target_names = ['No', 'Yes'],\n",
    "#                       title        = \"Confusion Matrix -- Linear Regression\")"
   ]
  },
  {
   "cell_type": "markdown",
   "metadata": {},
   "source": [
    "## K Nearest Neighbor (KNN)"
   ]
  },
  {
   "cell_type": "code",
   "execution_count": 30,
   "metadata": {},
   "outputs": [],
   "source": [
    "X = df.drop(columns=['score'])\n",
    "X = preprocessing.scale(X)\n",
    "y = df.score"
   ]
  },
  {
   "cell_type": "markdown",
   "metadata": {},
   "source": [
    "#### KNN Regressor"
   ]
  },
  {
   "cell_type": "code",
   "execution_count": 47,
   "metadata": {},
   "outputs": [
    {
     "name": "stdout",
     "output_type": "stream",
     "text": [
      "Test 1 Accuracy:\t0.5400275967791051\n"
     ]
    }
   ],
   "source": [
    "for i in range(1, 2):\n",
    "    X_train, X_test, y_train, y_test = model_selection.train_test_split(X,y,test_size=.25, random_state=None)\n",
    "\n",
    "    clf = neighbors.KNeighborsRegressor(n_neighbors=5, n_jobs=-1)\n",
    "    clf.fit(X_train, y_train)\n",
    "    accuracy = clf.score(X_test, y_test)\n",
    "    print('Test {0} Accuracy:\\t{1}'.format(i, accuracy))\n",
    "    \n",
    "pickle_classifier('..\\\\classifiers\\\\knn_regressor_score.pickle', clf)"
   ]
  },
  {
   "cell_type": "code",
   "execution_count": 48,
   "metadata": {},
   "outputs": [],
   "source": [
    "y_pred = clf.predict(X_test)\n",
    "# y_pred = [0 if c <= 0.5 else 1 for c in y_pred]\n",
    "# cm = confusion_matrix(y_test, y_pred)\n",
    "# cm"
   ]
  },
  {
   "cell_type": "code",
   "execution_count": 60,
   "metadata": {},
   "outputs": [
    {
     "data": {
      "text/plain": [
       "array([113.29298601, 137.00932838,  83.36084886, ...,  97.53565946,\n",
       "        71.84512771, 126.9913558 ])"
      ]
     },
     "execution_count": 60,
     "metadata": {},
     "output_type": "execute_result"
    }
   ],
   "source": [
    "y_pred"
   ]
  },
  {
   "cell_type": "code",
   "execution_count": null,
   "metadata": {},
   "outputs": [],
   "source": []
  },
  {
   "cell_type": "code",
   "execution_count": null,
   "metadata": {},
   "outputs": [],
   "source": []
  },
  {
   "cell_type": "code",
   "execution_count": null,
   "metadata": {},
   "outputs": [],
   "source": []
  },
  {
   "cell_type": "code",
   "execution_count": null,
   "metadata": {},
   "outputs": [],
   "source": []
  },
  {
   "cell_type": "code",
   "execution_count": 30,
   "metadata": {},
   "outputs": [
    {
     "data": {
      "image/png": "[encoded data removed]",
      "text/plain": [
       "<Figure size 576x432 with 2 Axes>"
      ]
     },
     "metadata": {
      "needs_background": "light"
     },
     "output_type": "display_data"
    }
   ],
   "source": [
    "plot_confusion_matrix(cm           = cm, \n",
    "                      normalize    = False,\n",
    "                      target_names = ['No', 'Yes'],\n",
    "                      title        = \"Confusion Matrix -- KNN Regressor\")"
   ]
  },
  {
   "cell_type": "markdown",
   "metadata": {},
   "source": [
    "#### KNN Classifier"
   ]
  },
  {
   "cell_type": "code",
   "execution_count": 31,
   "metadata": {},
   "outputs": [
    {
     "name": "stdout",
     "output_type": "stream",
     "text": [
      "Test 1 Accuracy:\t0.89704\n",
      "Test 2 Accuracy:\t0.89724\n",
      "Test 3 Accuracy:\t0.89824\n",
      "Test 4 Accuracy:\t0.8968\n",
      "Test 5 Accuracy:\t0.89664\n",
      "Test 6 Accuracy:\t0.89904\n",
      "Test 7 Accuracy:\t0.89796\n",
      "Test 8 Accuracy:\t0.89796\n",
      "Test 9 Accuracy:\t0.8974\n",
      "Test 10 Accuracy:\t0.89612\n"
     ]
    }
   ],
   "source": [
    "for i in range(1, 11):\n",
    "    X_train, X_test, y_train, y_test = model_selection.train_test_split(X,y,test_size=.25, random_state=None)\n",
    "\n",
    "    clf = neighbors.KNeighborsClassifier(n_neighbors=5, n_jobs=-1)\n",
    "    clf.fit(X_train, y_train)\n",
    "    accuracy = clf.score(X_test, y_test)\n",
    "    print('Test {0} Accuracy:\\t{1}'.format(i, accuracy))\n",
    "    \n",
    "pickle_classifier('..\\\\classifiers\\\\knn_classifier.pickle', clf)"
   ]
  },
  {
   "cell_type": "code",
   "execution_count": 32,
   "metadata": {},
   "outputs": [
    {
     "data": {
      "text/plain": [
       "array([[18998,   337],\n",
       "       [ 2260,  3405]], dtype=int64)"
      ]
     },
     "execution_count": 32,
     "metadata": {},
     "output_type": "execute_result"
    }
   ],
   "source": [
    "y_pred = clf.predict(X_test)\n",
    "cm = confusion_matrix(y_test, y_pred)\n",
    "cm"
   ]
  },
  {
   "cell_type": "code",
   "execution_count": 33,
   "metadata": {},
   "outputs": [
    {
     "data": {
      "image/png": "[encoded data removed]",
      "text/plain": [
       "<Figure size 576x432 with 2 Axes>"
      ]
     },
     "metadata": {
      "needs_background": "light"
     },
     "output_type": "display_data"
    }
   ],
   "source": [
    "plot_confusion_matrix(cm           = cm, \n",
    "                      normalize    = False,\n",
    "                      target_names = ['No', 'Yes'],\n",
    "                      title        = \"Confusion Matrix -- KNN Classifier\")"
   ]
  },
  {
   "cell_type": "code",
   "execution_count": null,
   "metadata": {},
   "outputs": [],
   "source": []
  }
 ],
 "metadata": {
  "jupytext": {
   "formats": "notebooks//ipynb,scripts//py"
  },
  "kernelspec": {
   "display_name": "Python 3",
   "language": "python",
   "name": "python3"
  },
  "language_info": {
   "codemirror_mode": {
    "name": "ipython",
    "version": 3
   },
   "file_extension": ".py",
   "mimetype": "text/x-python",
   "name": "python",
   "nbconvert_exporter": "python",
   "pygments_lexer": "ipython3",
   "version": "3.7.2"
  }
 },
 "nbformat": 4,
 "nbformat_minor": 2
}
