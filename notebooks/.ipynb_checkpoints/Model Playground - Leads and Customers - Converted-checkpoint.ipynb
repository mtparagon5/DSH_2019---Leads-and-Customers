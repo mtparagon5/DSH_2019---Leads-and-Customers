{
 "cells": [
  {
   "cell_type": "code",
   "execution_count": 1,
   "metadata": {},
   "outputs": [],
   "source": [
    "import pandas as pd\n",
    "import numpy as np\n",
    "import matplotlib.pyplot as plt\n",
    "import pickle, random\n",
    "\n",
    "import sklearn\n",
    "from sklearn import ensemble, model_selection, preprocessing, tree, linear_model, neighbors\n",
    "from sklearn.metrics import confusion_matrix\n",
    "from yellowbrick.classifier import ROCAUC\n",
    "from yellowbrick.classifier import ClassificationReport, ConfusionMatrix"
   ]
  },
  {
   "cell_type": "markdown",
   "metadata": {},
   "source": [
    "### I'm using  plot_confusion_matrix  function taken from kernel found on Kaggle\n",
    "####  Credit to [George Fisher](https://www.kaggle.com/grfiv4/plot-a-confusion-matrix/notebook) who has licensed it under an [Apache 2.0](https://www.apache.org/licenses/LICENSE-2.0)  open source license"
   ]
  },
  {
   "cell_type": "code",
   "execution_count": 2,
   "metadata": {},
   "outputs": [],
   "source": [
    "def plot_confusion_matrix(cm,\n",
    "                          target_names,\n",
    "                          title='Confusion matrix',\n",
    "                          cmap=None,\n",
    "                          normalize=True):\n",
    "    \"\"\"\n",
    "    given a sklearn confusion matrix (cm), make a nice plot\n",
    "\n",
    "    Arguments\n",
    "    ---------\n",
    "    cm:           confusion matrix from sklearn.metrics.confusion_matrix\n",
    "\n",
    "    target_names: given classification classes such as [0, 1, 2]\n",
    "                  the class names, for example: ['high', 'medium', 'low']\n",
    "\n",
    "    title:        the text to display at the top of the matrix\n",
    "\n",
    "    cmap:         the gradient of the values displayed from matplotlib.pyplot.cm\n",
    "                  see http://matplotlib.org/examples/color/colormaps_reference.html\n",
    "                  plt.get_cmap('jet') or plt.cm.Blues\n",
    "\n",
    "    normalize:    If False, plot the raw numbers\n",
    "                  If True, plot the proportions\n",
    "\n",
    "    Usage\n",
    "    -----\n",
    "    plot_confusion_matrix(cm           = cm,                  # confusion matrix created by\n",
    "                                                              # sklearn.metrics.confusion_matrix\n",
    "                          normalize    = True,                # show proportions\n",
    "                          target_names = y_labels_vals,       # list of names of the classes\n",
    "                          title        = best_estimator_name) # title of graph\n",
    "\n",
    "    Citiation\n",
    "    ---------\n",
    "    http://scikit-learn.org/stable/auto_examples/model_selection/plot_confusion_matrix.html\n",
    "\n",
    "    \"\"\"\n",
    "    import matplotlib.pyplot as plt\n",
    "    import numpy as np\n",
    "    import itertools\n",
    "\n",
    "    accuracy = np.trace(cm) / float(np.sum(cm))\n",
    "    misclass = 1 - accuracy\n",
    "\n",
    "    if cmap is None:\n",
    "        cmap = plt.get_cmap('Blues')\n",
    "\n",
    "    plt.figure(figsize=(8, 6))\n",
    "    plt.imshow(cm, interpolation='nearest', cmap=cmap)\n",
    "    plt.title(title)\n",
    "    plt.colorbar()\n",
    "\n",
    "    if target_names is not None:\n",
    "        tick_marks = np.arange(len(target_names))\n",
    "        plt.xticks(tick_marks, target_names, rotation=45)\n",
    "        plt.yticks(tick_marks, target_names)\n",
    "\n",
    "    if normalize:\n",
    "        cm = cm.astype('float') / cm.sum(axis=1)[:, np.newaxis]\n",
    "\n",
    "\n",
    "    thresh = cm.max() / 1.5 if normalize else cm.max() / 2\n",
    "    for i, j in itertools.product(range(cm.shape[0]), range(cm.shape[1])):\n",
    "        if normalize:\n",
    "            plt.text(j, i, \"{:0.4f}\".format(cm[i, j]),\n",
    "                     horizontalalignment=\"center\",\n",
    "                     color=\"white\" if cm[i, j] > thresh else \"black\")\n",
    "        else:\n",
    "            plt.text(j, i, \"{:,}\".format(cm[i, j]),\n",
    "                     horizontalalignment=\"center\",\n",
    "                     color=\"white\" if cm[i, j] > thresh else \"black\")\n",
    "\n",
    "\n",
    "    plt.tight_layout()\n",
    "    plt.ylabel('True label')\n",
    "    plt.xlabel('Predicted label\\naccuracy={:0.4f}; misclass={:0.4f}'.format(accuracy, misclass))\n",
    "    plt.show()"
   ]
  },
  {
   "cell_type": "markdown",
   "metadata": {},
   "source": [
    "### A function for pickling the classifiers (not necessary)"
   ]
  },
  {
   "cell_type": "code",
   "execution_count": 3,
   "metadata": {},
   "outputs": [],
   "source": [
    "def pickle_classifier(filepath, classifier):\n",
    "    \"\"\"Function to automate the pickling of a classifier\n",
    "    \"\"\"\n",
    "    with open(filepath, 'wb') as f:\n",
    "        pickle.dump(classifier, f)\n",
    "\n",
    "def load_pickled_classifier(filepath):\n",
    "    \"\"\"Function to load a pickled classifier\n",
    "    \"\"\"\n",
    "    with open(filepath, 'rb') as f:\n",
    "        return pickle.load(f)"
   ]
  },
  {
   "cell_type": "code",
   "execution_count": 4,
   "metadata": {},
   "outputs": [],
   "source": [
    "df = pd.read_json('..\\\\data\\\\cleaned_df_numerical_columns_only.json')\n",
    "df = df.astype(float)\n",
    "# moving converted to last column (was thinking of using random.shuffle)\n",
    "df_converted = df['converted']\n",
    "df = df.drop(['converted'], axis=1)\n",
    "df['converted'] = df_converted\n",
    "\n",
    "redundant_columns = [\n",
    "    'score_normalized',\n",
    "    'days_since_signup_normalized'\n",
    "]\n",
    "df.drop(redundant_columns, axis=1, inplace=True)"
   ]
  },
  {
   "cell_type": "code",
   "execution_count": 5,
   "metadata": {
    "scrolled": true
   },
   "outputs": [
    {
     "data": {
      "text/html": [
       "<div>\n",
       "<style scoped>\n",
       "    .dataframe tbody tr th:only-of-type {\n",
       "        vertical-align: middle;\n",
       "    }\n",
       "\n",
       "    .dataframe tbody tr th {\n",
       "        vertical-align: top;\n",
       "    }\n",
       "\n",
       "    .dataframe thead th {\n",
       "        text-align: right;\n",
       "    }\n",
       "</style>\n",
       "<table border=\"1\" class=\"dataframe\">\n",
       "  <thead>\n",
       "    <tr style=\"text-align: right;\">\n",
       "      <th></th>\n",
       "      <th>days_since_signup</th>\n",
       "      <th>completed_form</th>\n",
       "      <th>visited_pricing</th>\n",
       "      <th>registered_for_webinar</th>\n",
       "      <th>attended_webinar</th>\n",
       "      <th>is_manager</th>\n",
       "      <th>acquisition_channel_cold_call</th>\n",
       "      <th>acquisition_channel_cold_email</th>\n",
       "      <th>acquisition_channel_organic_search</th>\n",
       "      <th>acquisition_channel_paid_leads</th>\n",
       "      <th>...</th>\n",
       "      <th>is_sales</th>\n",
       "      <th>is_marketing</th>\n",
       "      <th>is_other</th>\n",
       "      <th>is_web_ind</th>\n",
       "      <th>is_financials_ind</th>\n",
       "      <th>is_furniture_ind</th>\n",
       "      <th>is_transportation_ind</th>\n",
       "      <th>is_manufacturing_ind</th>\n",
       "      <th>is_scandesign_ind</th>\n",
       "      <th>converted</th>\n",
       "    </tr>\n",
       "  </thead>\n",
       "  <tbody>\n",
       "    <tr>\n",
       "      <th>0</th>\n",
       "      <td>18.0</td>\n",
       "      <td>1.0</td>\n",
       "      <td>1.0</td>\n",
       "      <td>0.0</td>\n",
       "      <td>0.0</td>\n",
       "      <td>0.0</td>\n",
       "      <td>0.0</td>\n",
       "      <td>0.0</td>\n",
       "      <td>1.0</td>\n",
       "      <td>0.0</td>\n",
       "      <td>...</td>\n",
       "      <td>0.0</td>\n",
       "      <td>1.0</td>\n",
       "      <td>0.0</td>\n",
       "      <td>1.0</td>\n",
       "      <td>0.0</td>\n",
       "      <td>0.0</td>\n",
       "      <td>0.0</td>\n",
       "      <td>0.0</td>\n",
       "      <td>0.0</td>\n",
       "      <td>1.0</td>\n",
       "    </tr>\n",
       "    <tr>\n",
       "      <th>1</th>\n",
       "      <td>3.0</td>\n",
       "      <td>1.0</td>\n",
       "      <td>0.0</td>\n",
       "      <td>1.0</td>\n",
       "      <td>0.0</td>\n",
       "      <td>1.0</td>\n",
       "      <td>0.0</td>\n",
       "      <td>0.0</td>\n",
       "      <td>1.0</td>\n",
       "      <td>0.0</td>\n",
       "      <td>...</td>\n",
       "      <td>0.0</td>\n",
       "      <td>0.0</td>\n",
       "      <td>1.0</td>\n",
       "      <td>1.0</td>\n",
       "      <td>0.0</td>\n",
       "      <td>0.0</td>\n",
       "      <td>0.0</td>\n",
       "      <td>0.0</td>\n",
       "      <td>0.0</td>\n",
       "      <td>0.0</td>\n",
       "    </tr>\n",
       "    <tr>\n",
       "      <th>10</th>\n",
       "      <td>27.0</td>\n",
       "      <td>1.0</td>\n",
       "      <td>1.0</td>\n",
       "      <td>0.0</td>\n",
       "      <td>0.0</td>\n",
       "      <td>1.0</td>\n",
       "      <td>0.0</td>\n",
       "      <td>0.0</td>\n",
       "      <td>1.0</td>\n",
       "      <td>0.0</td>\n",
       "      <td>...</td>\n",
       "      <td>0.0</td>\n",
       "      <td>0.0</td>\n",
       "      <td>1.0</td>\n",
       "      <td>1.0</td>\n",
       "      <td>0.0</td>\n",
       "      <td>0.0</td>\n",
       "      <td>0.0</td>\n",
       "      <td>0.0</td>\n",
       "      <td>0.0</td>\n",
       "      <td>0.0</td>\n",
       "    </tr>\n",
       "    <tr>\n",
       "      <th>100</th>\n",
       "      <td>0.0</td>\n",
       "      <td>1.0</td>\n",
       "      <td>1.0</td>\n",
       "      <td>0.0</td>\n",
       "      <td>0.0</td>\n",
       "      <td>0.0</td>\n",
       "      <td>0.0</td>\n",
       "      <td>0.0</td>\n",
       "      <td>1.0</td>\n",
       "      <td>0.0</td>\n",
       "      <td>...</td>\n",
       "      <td>0.0</td>\n",
       "      <td>0.0</td>\n",
       "      <td>1.0</td>\n",
       "      <td>0.0</td>\n",
       "      <td>0.0</td>\n",
       "      <td>0.0</td>\n",
       "      <td>0.0</td>\n",
       "      <td>1.0</td>\n",
       "      <td>0.0</td>\n",
       "      <td>0.0</td>\n",
       "    </tr>\n",
       "    <tr>\n",
       "      <th>1000</th>\n",
       "      <td>19.0</td>\n",
       "      <td>0.0</td>\n",
       "      <td>1.0</td>\n",
       "      <td>0.0</td>\n",
       "      <td>0.0</td>\n",
       "      <td>0.0</td>\n",
       "      <td>0.0</td>\n",
       "      <td>0.0</td>\n",
       "      <td>1.0</td>\n",
       "      <td>0.0</td>\n",
       "      <td>...</td>\n",
       "      <td>0.0</td>\n",
       "      <td>1.0</td>\n",
       "      <td>0.0</td>\n",
       "      <td>0.0</td>\n",
       "      <td>0.0</td>\n",
       "      <td>0.0</td>\n",
       "      <td>0.0</td>\n",
       "      <td>1.0</td>\n",
       "      <td>0.0</td>\n",
       "      <td>0.0</td>\n",
       "    </tr>\n",
       "  </tbody>\n",
       "</table>\n",
       "<p>5 rows × 43 columns</p>\n",
       "</div>"
      ],
      "text/plain": [
       "      days_since_signup  completed_form  visited_pricing  \\\n",
       "0                  18.0             1.0              1.0   \n",
       "1                   3.0             1.0              0.0   \n",
       "10                 27.0             1.0              1.0   \n",
       "100                 0.0             1.0              1.0   \n",
       "1000               19.0             0.0              1.0   \n",
       "\n",
       "      registered_for_webinar  attended_webinar  is_manager  \\\n",
       "0                        0.0               0.0         0.0   \n",
       "1                        1.0               0.0         1.0   \n",
       "10                       0.0               0.0         1.0   \n",
       "100                      0.0               0.0         0.0   \n",
       "1000                     0.0               0.0         0.0   \n",
       "\n",
       "      acquisition_channel_cold_call  acquisition_channel_cold_email  \\\n",
       "0                               0.0                             0.0   \n",
       "1                               0.0                             0.0   \n",
       "10                              0.0                             0.0   \n",
       "100                             0.0                             0.0   \n",
       "1000                            0.0                             0.0   \n",
       "\n",
       "      acquisition_channel_organic_search  acquisition_channel_paid_leads  ...  \\\n",
       "0                                    1.0                             0.0  ...   \n",
       "1                                    1.0                             0.0  ...   \n",
       "10                                   1.0                             0.0  ...   \n",
       "100                                  1.0                             0.0  ...   \n",
       "1000                                 1.0                             0.0  ...   \n",
       "\n",
       "      is_sales  is_marketing  is_other  is_web_ind  is_financials_ind  \\\n",
       "0          0.0           1.0       0.0         1.0                0.0   \n",
       "1          0.0           0.0       1.0         1.0                0.0   \n",
       "10         0.0           0.0       1.0         1.0                0.0   \n",
       "100        0.0           0.0       1.0         0.0                0.0   \n",
       "1000       0.0           1.0       0.0         0.0                0.0   \n",
       "\n",
       "      is_furniture_ind  is_transportation_ind  is_manufacturing_ind  \\\n",
       "0                  0.0                    0.0                   0.0   \n",
       "1                  0.0                    0.0                   0.0   \n",
       "10                 0.0                    0.0                   0.0   \n",
       "100                0.0                    0.0                   1.0   \n",
       "1000               0.0                    0.0                   1.0   \n",
       "\n",
       "      is_scandesign_ind  converted  \n",
       "0                   0.0        1.0  \n",
       "1                   0.0        0.0  \n",
       "10                  0.0        0.0  \n",
       "100                 0.0        0.0  \n",
       "1000                0.0        0.0  \n",
       "\n",
       "[5 rows x 43 columns]"
      ]
     },
     "execution_count": 5,
     "metadata": {},
     "output_type": "execute_result"
    }
   ],
   "source": [
    "df.head()"
   ]
  },
  {
   "cell_type": "markdown",
   "metadata": {},
   "source": [
    "### Random Forest"
   ]
  },
  {
   "cell_type": "code",
   "execution_count": 6,
   "metadata": {},
   "outputs": [],
   "source": [
    "X = df.drop(columns=['converted'])\n",
    "X = preprocessing.scale(X)\n",
    "y = df.converted"
   ]
  },
  {
   "cell_type": "code",
   "execution_count": 8,
   "metadata": {},
   "outputs": [
    {
     "name": "stdout",
     "output_type": "stream",
     "text": [
      "Test 1 Accuracy:\t1.0\n",
      "Test 2 Accuracy:\t1.0\n",
      "Test 3 Accuracy:\t1.0\n",
      "Test 4 Accuracy:\t0.99992\n",
      "Test 5 Accuracy:\t1.0\n",
      "Test 6 Accuracy:\t0.99996\n",
      "Test 7 Accuracy:\t1.0\n",
      "Test 8 Accuracy:\t0.99996\n",
      "Test 9 Accuracy:\t0.99996\n",
      "Test 10 Accuracy:\t1.0\n"
     ]
    }
   ],
   "source": [
    "for i in range(1, 11):\n",
    "    X_train, X_test, y_train, y_test = model_selection.train_test_split(X,y,test_size=.25, random_state=None)\n",
    "\n",
    "    n_trees = 500\n",
    "    clf = ensemble.RandomForestClassifier(max_features='auto', n_estimators=n_trees, random_state=None, n_jobs=-1)\n",
    "    clf.fit(X_train, y_train)\n",
    "    accuracy = clf.score(X_test, y_test)\n",
    "    print('Test {0} Accuracy:\\t{1}'.format(i, accuracy))\n",
    "    \n",
    "pickle_classifier('..\\\\classifiers\\\\random_forest.pickle', clf)"
   ]
  },
  {
   "cell_type": "code",
   "execution_count": 9,
   "metadata": {},
   "outputs": [
    {
     "data": {
      "text/plain": [
       "array([[19301,     0],\n",
       "       [    0,  5699]], dtype=int64)"
      ]
     },
     "execution_count": 9,
     "metadata": {},
     "output_type": "execute_result"
    }
   ],
   "source": [
    "y_pred = clf.predict(X_test)\n",
    "cm = confusion_matrix(y_test, y_pred)\n",
    "cm"
   ]
  },
  {
   "cell_type": "code",
   "execution_count": 10,
   "metadata": {},
   "outputs": [
    {
     "data": {
      "image/png": "[encoded data removed]",
      "text/plain": [
       "<Figure size 576x432 with 2 Axes>"
      ]
     },
     "metadata": {
      "needs_background": "light"
     },
     "output_type": "display_data"
    }
   ],
   "source": [
    "plot_confusion_matrix(cm           = cm, \n",
    "                      normalize    = False,\n",
    "                      target_names = ['No', 'Yes'],\n",
    "                      title        = \"Confusion Matrix -- Random Forest\")"
   ]
  },
  {
   "cell_type": "code",
   "execution_count": 11,
   "metadata": {
    "scrolled": true
   },
   "outputs": [
    {
     "name": "stdout",
     "output_type": "stream",
     "text": [
      "(<100000x1117652 sparse matrix of type '<class 'numpy.int64'>'\n",
      "\twith 386940424 stored elements in Compressed Sparse Row format>, array([      0,    2663,    4286,    4289,    4292,    4295,    9294,\n",
      "         12773,   13516,   16969,   20442,   20853,   22444,   25609,\n",
      "         26286,   27641,   29916,   31629,   32780,   37361,   40246,\n",
      "         41393,   42300,   46215,   50584,   54525,   56634,   58059,\n",
      "         60734,   61353,   61356,   64009,   66846,   68659,   74140,\n",
      "         77723,   79220,   80855,   80874,   83199,   84558,   86427,\n",
      "         89914,   92941,   92944,   97119,   97676,   99867,  103234,\n",
      "        103761,  103764,  103767,  106016,  109169,  109560,  110819,\n",
      "        115402,  115863,  121348,  122751,  122754,  124009,  124758,\n",
      "        130097,  132418,  133327,  134514,  134517,  134788,  137819,\n",
      "        140342,  142681,  147424,  147427,  151642,  156105,  159208,\n",
      "        163825,  165082,  167409,  167412,  170493,  170500,  171155,\n",
      "        174962,  177061,  177064,  180891,  183422,  187699,  188958,\n",
      "        190589,  193348,  193351,  197152,  197155,  201508,  202929,\n",
      "        206030,  207083,  207086,  207505,  209700,  210189,  213504,\n",
      "        220049,  224560,  225669,  225672,  229457,  231844,  234159,\n",
      "        235692,  240919,  244588,  246323,  247136,  247139,  247142,\n",
      "        247545,  250264,  253095,  253098,  257893,  259352,  261615,\n",
      "        263488,  267633,  269894,  272161,  274416,  278475,  278478,\n",
      "        284545,  287058,  289669,  291176,  293627,  296080,  299067,\n",
      "        299078,  304309,  304316,  304733,  308268,  309647,  310412,\n",
      "        314461,  317912,  319523,  323362,  329451,  332134,  336411,\n",
      "        338120,  338333,  338336,  340703,  342894,  348465,  352406,\n",
      "        356253,  357944,  361267,  364558,  365253,  368720,  373105,\n",
      "        376628,  376681,  378152,  382271,  385962,  387611,  390938,\n",
      "        393327,  393374,  395855,  396826,  396829,  399208,  399211,\n",
      "        399834,  402719,  405576,  407145,  410618,  411455,  411524,\n",
      "        415097,  418580,  420713,  424406,  425439,  428988,  433907,\n",
      "        437236,  437315,  437792,  437795,  437802,  441203,  446598,\n",
      "        446601,  450936,  451573,  452466,  456925,  457990,  459809,\n",
      "        462580,  466415,  470034,  472769,  474360,  479085,  482206,\n",
      "        487105,  488642,  491601,  491834,  493333,  495404,  495867,\n",
      "        498382,  500755,  501508,  503557,  506386,  508003,  510316,\n",
      "        512057,  515854,  520909,  524116,  526215,  529786,  530377,\n",
      "        534282,  538811,  540790,  544629,  544632,  547657,  552520,\n",
      "        554193,  557710,  558393,  560860,  564677,  566752,  572221,\n",
      "        572224,  575301,  577356,  581801,  585598,  588999,  592394,\n",
      "        593395,  593398,  594565,  597438,  600823,  604626,  607127,\n",
      "        610638,  614891,  614894,  618583,  621082,  624667,  624762,\n",
      "        627841,  627844,  627847,  632064,  632067,  634196,  638093,\n",
      "        642562,  644231,  645416,  649009,  652382,  652385,  653378,\n",
      "        656609,  662106,  663861,  664728,  665583,  668346,  670315,\n",
      "        673044,  674925,  678368,  678371,  679452,  680545,  680548,\n",
      "        683231,  684606,  688369,  690948,  693501,  695210,  698979,\n",
      "        698994,  703215,  705636,  708159,  711448,  713295,  718900,\n",
      "        719069,  723184,  727311,  727314,  729325,  730856,  730859,\n",
      "        730862,  737233,  739630,  744869,  747314,  748517,  750806,\n",
      "        750809,  755896,  755899,  759540,  759543,  762324,  762543,\n",
      "        767966,  770985,  772904,  772923,  774486,  779231,  780056,\n",
      "        780059,  780786,  782321,  783342,  785581,  790432,  791773,\n",
      "        795340,  796623,  797834,  799071,  801424,  804061,  806236,\n",
      "        806255,  806600,  807897,  808760,  813763,  815500,  816667,\n",
      "        816670,  816797,  817582,  820625,  820628,  820713,  821232,\n",
      "        823371,  824334,  826935,  827718,  830443,  832034,  833833,\n",
      "        839050,  844323,  844326,  844329,  846788,  851945,  852374,\n",
      "        853249,  854410,  857009,  857968,  861507,  865402,  869825,\n",
      "        875826,  877795,  880550,  881771,  883630,  884221,  888252,\n",
      "        888631,  889718,  892615,  892654,  893961,  893964,  893967,\n",
      "        898714,  898717,  903920,  906225,  910414,  913703,  915528,\n",
      "        916191,  917860,  918357,  918364,  919849,  921786,  923979,\n",
      "        929046,  929049,  931758,  935167,  941588,  944335,  945506,\n",
      "        948837,  950160,  951985,  955242,  960141,  963620,  963631,\n",
      "        963634,  965043,  969030,  970983,  974792,  977259,  980022,\n",
      "        981077,  985454,  985457,  988828,  988831,  990254,  990811,\n",
      "        994938,  997749, 1001550, 1006267, 1006274, 1007861, 1010224,\n",
      "       1013899, 1015132, 1015327, 1018770, 1020167, 1023528, 1024721,\n",
      "       1025802, 1030261, 1034562, 1034565, 1038322, 1038825, 1038828,\n",
      "       1040487, 1041664, 1042829, 1047718, 1052655, 1057268, 1060285,\n",
      "       1062418, 1066513, 1067168, 1069235, 1071832, 1073395, 1073402,\n",
      "       1075753, 1078928, 1080409, 1082474, 1083259, 1084166, 1086717,\n",
      "       1089822, 1093627, 1095896, 1099173, 1100398, 1100401, 1104962,\n",
      "       1110403, 1110960, 1115531, 1117652], dtype=int32))\n",
      "[9.29491068e-03 3.44625119e-03 2.44008786e-03 6.94786858e-02\n",
      " 1.16252155e-01 1.78089123e-03 1.26764136e-03 1.86247863e-03\n",
      " 3.18973758e-03 7.87724914e-03 1.05190465e-03 1.53720259e-03\n",
      " 1.76588567e-03 4.55312606e-04 8.16219833e-04 6.76506362e-04\n",
      " 2.54684609e-03 1.17039448e-03 1.38889867e-03 3.87376210e-04\n",
      " 4.13674148e-04 7.37353950e-05 8.33505929e-04 8.58876296e-04\n",
      " 7.40346251e-01 9.69413986e-03 5.46892551e-03 1.48037356e-03\n",
      " 4.52746233e-03 5.87082521e-04 2.49156606e-04 2.89781880e-04\n",
      " 6.81231661e-04 8.10400360e-04 5.96182789e-04 8.11755348e-04\n",
      " 8.56725896e-04 1.16292900e-03 3.55856044e-04 7.96985414e-04\n",
      " 3.46063936e-04 7.22683766e-05]\n"
     ]
    }
   ],
   "source": [
    "print(clf.decision_path(X))\n",
    "print(clf.feature_importances_)"
   ]
  },
  {
   "cell_type": "markdown",
   "metadata": {},
   "source": [
    "##### ROC Curve"
   ]
  },
  {
   "cell_type": "code",
   "execution_count": null,
   "metadata": {},
   "outputs": [],
   "source": [
    "# fig, ax = plt.subplots(figsize=(10,10))\n",
    "# roc_viz = ROCAUC(clf)\n",
    "# roc_viz.score(X_test,y_test)\n",
    "\n",
    "# roc_viz.poof()"
   ]
  },
  {
   "cell_type": "markdown",
   "metadata": {},
   "source": [
    "## Logistic Regression"
   ]
  },
  {
   "cell_type": "code",
   "execution_count": 12,
   "metadata": {},
   "outputs": [],
   "source": [
    "X = df.drop(columns=['converted'])\n",
    "X = preprocessing.scale(X)\n",
    "y = df.converted"
   ]
  },
  {
   "cell_type": "code",
   "execution_count": 13,
   "metadata": {},
   "outputs": [
    {
     "name": "stdout",
     "output_type": "stream",
     "text": [
      "Test 1 Accuracy:\t0.99504\n",
      "Test 2 Accuracy:\t0.99528\n",
      "Test 3 Accuracy:\t0.9948\n",
      "Test 4 Accuracy:\t0.99532\n",
      "Test 5 Accuracy:\t0.99496\n",
      "Test 6 Accuracy:\t0.99484\n",
      "Test 7 Accuracy:\t0.99496\n",
      "Test 8 Accuracy:\t0.99488\n",
      "Test 9 Accuracy:\t0.99468\n",
      "Test 10 Accuracy:\t0.99552\n"
     ]
    }
   ],
   "source": [
    "for i in range(1, 11):\n",
    "    X_train, X_test, y_train, y_test = model_selection.train_test_split(X,y,test_size=.25, random_state=None)\n",
    "\n",
    "    clf = linear_model.LogisticRegression(random_state=None, solver='lbfgs', n_jobs=-1)\n",
    "    clf.fit(X_train, y_train)\n",
    "    accuracy = clf.score(X_test, y_test)\n",
    "    print('Test {0} Accuracy:\\t{1}'.format(i, accuracy))\n",
    "    \n",
    "pickle_classifier('..\\\\classifiers\\\\logistic_regression.pickle', clf)"
   ]
  },
  {
   "cell_type": "code",
   "execution_count": 14,
   "metadata": {},
   "outputs": [
    {
     "data": {
      "text/plain": [
       "array([[19202,   102],\n",
       "       [   10,  5686]], dtype=int64)"
      ]
     },
     "execution_count": 14,
     "metadata": {},
     "output_type": "execute_result"
    }
   ],
   "source": [
    "y_pred = clf.predict(X_test)\n",
    "cm = confusion_matrix(y_test, y_pred)\n",
    "cm"
   ]
  },
  {
   "cell_type": "code",
   "execution_count": 15,
   "metadata": {},
   "outputs": [
    {
     "name": "stdout",
     "output_type": "stream",
     "text": [
      "[  1.84305783  -4.84057182 -12.55518274 ... -38.23453234 -21.57981147\n",
      "  12.86152362]\n",
      "-17.11048369402891\n"
     ]
    },
    {
     "data": {
      "text/html": [
       "<div>\n",
       "<style scoped>\n",
       "    .dataframe tbody tr th:only-of-type {\n",
       "        vertical-align: middle;\n",
       "    }\n",
       "\n",
       "    .dataframe tbody tr th {\n",
       "        vertical-align: top;\n",
       "    }\n",
       "\n",
       "    .dataframe thead th {\n",
       "        text-align: right;\n",
       "    }\n",
       "</style>\n",
       "<table border=\"1\" class=\"dataframe\">\n",
       "  <thead>\n",
       "    <tr style=\"text-align: right;\">\n",
       "      <th></th>\n",
       "      <th>0</th>\n",
       "    </tr>\n",
       "  </thead>\n",
       "  <tbody>\n",
       "    <tr>\n",
       "      <th>count</th>\n",
       "      <td>100000</td>\n",
       "    </tr>\n",
       "    <tr>\n",
       "      <th>unique</th>\n",
       "      <td>2</td>\n",
       "    </tr>\n",
       "    <tr>\n",
       "      <th>top</th>\n",
       "      <td>False</td>\n",
       "    </tr>\n",
       "    <tr>\n",
       "      <th>freq</th>\n",
       "      <td>76831</td>\n",
       "    </tr>\n",
       "  </tbody>\n",
       "</table>\n",
       "</div>"
      ],
      "text/plain": [
       "             0\n",
       "count   100000\n",
       "unique       2\n",
       "top      False\n",
       "freq     76831"
      ]
     },
     "execution_count": 15,
     "metadata": {},
     "output_type": "execute_result"
    }
   ],
   "source": [
    "print(clf.decision_function(X))\n",
    "print(clf.decision_function(X).mean())\n",
    "pd.DataFrame(clf.decision_function(X)>0).describe()"
   ]
  },
  {
   "cell_type": "code",
   "execution_count": 16,
   "metadata": {},
   "outputs": [
    {
     "data": {
      "image/png": "[encoded data removed]",
      "text/plain": [
       "<Figure size 576x432 with 2 Axes>"
      ]
     },
     "metadata": {
      "needs_background": "light"
     },
     "output_type": "display_data"
    }
   ],
   "source": [
    "plot_confusion_matrix(cm           = cm, \n",
    "                      normalize    = False,\n",
    "                      target_names = ['No', 'Yes'],\n",
    "                      title        = \"Confusion Matrix -- Logistic Regression\")"
   ]
  },
  {
   "cell_type": "markdown",
   "metadata": {},
   "source": [
    "## Linear Regression"
   ]
  },
  {
   "cell_type": "code",
   "execution_count": 17,
   "metadata": {
    "scrolled": true
   },
   "outputs": [],
   "source": [
    "X = df.drop(columns=['converted'])\n",
    "X = preprocessing.scale(X)\n",
    "y = df.converted"
   ]
  },
  {
   "cell_type": "code",
   "execution_count": 19,
   "metadata": {},
   "outputs": [
    {
     "name": "stdout",
     "output_type": "stream",
     "text": [
      "Test 1 Accuracy:\t0.476899108097588\n",
      "Test 2 Accuracy:\t0.47375879213583466\n",
      "Test 3 Accuracy:\t0.4788439521767435\n",
      "Test 4 Accuracy:\t0.47842726508382644\n",
      "Test 5 Accuracy:\t0.47538180074100567\n",
      "Test 6 Accuracy:\t0.4767168336630939\n",
      "Test 7 Accuracy:\t0.4787464444310237\n",
      "Test 8 Accuracy:\t0.4794903647472636\n",
      "Test 9 Accuracy:\t0.4756155481840401\n",
      "Test 10 Accuracy:\t0.47364192273653777\n"
     ]
    }
   ],
   "source": [
    "for i in range(1, 11):\n",
    "    X_train, X_test, y_train, y_test = model_selection.train_test_split(X,y,test_size=.25, random_state=None)\n",
    "\n",
    "    clf = linear_model.LinearRegression(n_jobs=-1)\n",
    "    clf.fit(X_train, y_train)\n",
    "    accuracy = clf.score(X_test, y_test)\n",
    "    print('Test {0} Accuracy:\\t{1}'.format(i, accuracy))\n",
    "    \n",
    "pickle_classifier('..\\\\classifiers\\\\linear_regression.pickle', clf)"
   ]
  },
  {
   "cell_type": "code",
   "execution_count": 20,
   "metadata": {},
   "outputs": [
    {
     "data": {
      "text/plain": [
       "array([[19322,    25],\n",
       "       [ 3113,  2540]], dtype=int64)"
      ]
     },
     "execution_count": 20,
     "metadata": {},
     "output_type": "execute_result"
    }
   ],
   "source": [
    "y_pred = clf.predict(X_test)\n",
    "y_pred = [0 if c <= 0.5 else 1 for c in y_pred]\n",
    "cm = confusion_matrix(y_test, y_pred)\n",
    "cm"
   ]
  },
  {
   "cell_type": "code",
   "execution_count": 21,
   "metadata": {},
   "outputs": [
    {
     "data": {
      "image/png": "[encoded data removed]",
      "text/plain": [
       "<Figure size 576x432 with 2 Axes>"
      ]
     },
     "metadata": {
      "needs_background": "light"
     },
     "output_type": "display_data"
    }
   ],
   "source": [
    "plot_confusion_matrix(cm           = cm, \n",
    "                      normalize    = False,\n",
    "                      target_names = ['No', 'Yes'],\n",
    "                      title        = \"Confusion Matrix -- Linear Regression\")"
   ]
  },
  {
   "cell_type": "markdown",
   "metadata": {},
   "source": [
    "## K Nearest Neighbor (KNN)"
   ]
  },
  {
   "cell_type": "code",
   "execution_count": 25,
   "metadata": {},
   "outputs": [],
   "source": [
    "X = df.drop(columns=['converted'])\n",
    "X = preprocessing.scale(X)\n",
    "y = df.converted"
   ]
  },
  {
   "cell_type": "markdown",
   "metadata": {},
   "source": [
    "#### KNN Regressor"
   ]
  },
  {
   "cell_type": "code",
   "execution_count": 26,
   "metadata": {},
   "outputs": [
    {
     "name": "stdout",
     "output_type": "stream",
     "text": [
      "Test 1 Accuracy:\t0.4876572947219172\n",
      "Test 2 Accuracy:\t0.47024897039750374\n",
      "Test 3 Accuracy:\t0.47234856613595455\n",
      "Test 4 Accuracy:\t0.4783212746599473\n",
      "Test 5 Accuracy:\t0.46550718925266243\n",
      "Test 6 Accuracy:\t0.48532773745887714\n",
      "Test 7 Accuracy:\t0.47557076787830044\n",
      "Test 8 Accuracy:\t0.47111858259450307\n",
      "Test 9 Accuracy:\t0.4743349931797622\n",
      "Test 10 Accuracy:\t0.4805021690879286\n"
     ]
    }
   ],
   "source": [
    "for i in range(1, 11):\n",
    "    X_train, X_test, y_train, y_test = model_selection.train_test_split(X,y,test_size=.25, random_state=None)\n",
    "\n",
    "    clf = neighbors.KNeighborsRegressor(n_neighbors=5, n_jobs=-1)\n",
    "    clf.fit(X_train, y_train)\n",
    "    accuracy = clf.score(X_test, y_test)\n",
    "    print('Test {0} Accuracy:\\t{1}'.format(i, accuracy))\n",
    "    \n",
    "pickle_classifier('..\\\\classifiers\\\\knn_regressor.pickle', clf)"
   ]
  },
  {
   "cell_type": "code",
   "execution_count": 29,
   "metadata": {},
   "outputs": [
    {
     "data": {
      "text/plain": [
       "array([[18968,   270],\n",
       "       [ 2285,  3477]], dtype=int64)"
      ]
     },
     "execution_count": 29,
     "metadata": {},
     "output_type": "execute_result"
    }
   ],
   "source": [
    "y_pred = clf.predict(X_test)\n",
    "y_pred = [0 if c <= 0.5 else 1 for c in y_pred]\n",
    "cm = confusion_matrix(y_test, y_pred)\n",
    "cm"
   ]
  },
  {
   "cell_type": "code",
   "execution_count": 30,
   "metadata": {},
   "outputs": [
    {
     "data": {
      "image/png": "[encoded data removed]",
      "text/plain": [
       "<Figure size 576x432 with 2 Axes>"
      ]
     },
     "metadata": {
      "needs_background": "light"
     },
     "output_type": "display_data"
    }
   ],
   "source": [
    "plot_confusion_matrix(cm           = cm, \n",
    "                      normalize    = False,\n",
    "                      target_names = ['No', 'Yes'],\n",
    "                      title        = \"Confusion Matrix -- KNN Regressor\")"
   ]
  },
  {
   "cell_type": "markdown",
   "metadata": {},
   "source": [
    "#### KNN Classifier"
   ]
  },
  {
   "cell_type": "code",
   "execution_count": 31,
   "metadata": {},
   "outputs": [
    {
     "name": "stdout",
     "output_type": "stream",
     "text": [
      "Test 1 Accuracy:\t0.89704\n",
      "Test 2 Accuracy:\t0.89724\n",
      "Test 3 Accuracy:\t0.89824\n",
      "Test 4 Accuracy:\t0.8968\n",
      "Test 5 Accuracy:\t0.89664\n",
      "Test 6 Accuracy:\t0.89904\n",
      "Test 7 Accuracy:\t0.89796\n",
      "Test 8 Accuracy:\t0.89796\n",
      "Test 9 Accuracy:\t0.8974\n",
      "Test 10 Accuracy:\t0.89612\n"
     ]
    }
   ],
   "source": [
    "for i in range(1, 11):\n",
    "    X_train, X_test, y_train, y_test = model_selection.train_test_split(X,y,test_size=.25, random_state=None)\n",
    "\n",
    "    clf = neighbors.KNeighborsClassifier(n_neighbors=5, n_jobs=-1)\n",
    "    clf.fit(X_train, y_train)\n",
    "    accuracy = clf.score(X_test, y_test)\n",
    "    print('Test {0} Accuracy:\\t{1}'.format(i, accuracy))\n",
    "    \n",
    "pickle_classifier('..\\\\classifiers\\\\knn_classifier.pickle', clf)"
   ]
  },
  {
   "cell_type": "code",
   "execution_count": 32,
   "metadata": {},
   "outputs": [
    {
     "data": {
      "text/plain": [
       "array([[18998,   337],\n",
       "       [ 2260,  3405]], dtype=int64)"
      ]
     },
     "execution_count": 32,
     "metadata": {},
     "output_type": "execute_result"
    }
   ],
   "source": [
    "y_pred = clf.predict(X_test)\n",
    "cm = confusion_matrix(y_test, y_pred)\n",
    "cm"
   ]
  },
  {
   "cell_type": "code",
   "execution_count": 33,
   "metadata": {},
   "outputs": [
    {
     "data": {
      "image/png": "[encoded data removed]",
      "text/plain": [
       "<Figure size 576x432 with 2 Axes>"
      ]
     },
     "metadata": {
      "needs_background": "light"
     },
     "output_type": "display_data"
    }
   ],
   "source": [
    "plot_confusion_matrix(cm           = cm, \n",
    "                      normalize    = False,\n",
    "                      target_names = ['No', 'Yes'],\n",
    "                      title        = \"Confusion Matrix -- KNN Classifier\")"
   ]
  },
  {
   "cell_type": "code",
   "execution_count": null,
   "metadata": {},
   "outputs": [],
   "source": []
  }
 ],
 "metadata": {
  "jupytext": {
   "formats": "notebooks//ipynb,scripts//py"
  },
  "kernelspec": {
   "display_name": "Python 3",
   "language": "python",
   "name": "python3"
  },
  "language_info": {
   "codemirror_mode": {
    "name": "ipython",
    "version": 3
   },
   "file_extension": ".py",
   "mimetype": "text/x-python",
   "name": "python",
   "nbconvert_exporter": "python",
   "pygments_lexer": "ipython3",
   "version": "3.7.2"
  }
 },
 "nbformat": 4,
 "nbformat_minor": 2
}
