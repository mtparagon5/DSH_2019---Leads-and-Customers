{
 "cells": [
  {
   "cell_type": "markdown",
   "metadata": {},
   "source": [
    "# Leads and Customers Dataset - Summary\n",
    "Matthew Thomas\n",
    "<br>\n",
    "mt.paragon5@gmail.com"
   ]
  },
  {
   "cell_type": "markdown",
   "metadata": {},
   "source": [
    "## In Summary:\n",
    "    - Addresses, Birthdates, Usernames, and Emails have been removed due to lack of trust in their integrity\n",
    "    - Industry, Company Size, and Acquisition Channels have been reduced to their respective 'ranked' columns\n",
    "    - Days Since Signup and Score have been replaced by columns with normalized values\n",
    "        - this may or may not be necessary but all values will now be 0.0, 1.0, or between 0.0 and 1.0\n",
    "    - Job Title was dropped\n",
    "        - Originally I picked out unique job titles e.g., marketing, advertising, director, manager, etc. and added \n",
    "            binary columns for them but since Directors stood out the most, I decided to disregard the job titles. \n",
    "    - Changed Is_Manager column to is_director and from a boolean value to a binary 0 or 1\n",
    "    \n",
    "#### Notes on the final DataFrame:\n",
    "    - The final DataFrame consists of 12 columns, each of which being a float value of 0, 1, or between the two\n",
    "        - company_size                    float64\n",
    "        - completed_form                  float64\n",
    "        - visited_pricing                 float64\n",
    "        - registered_for_webinar          float64\n",
    "        - attended_webinar                float64\n",
    "        - converted                       float64\n",
    "        - is_male                         float64\n",
    "        - is_director                     float64\n",
    "        - score_normalized                float64\n",
    "        - days_since_signup_normalized    float64\n",
    "        - acquisition_channel_numeric     float64\n",
    "        - industry_type_numeric           float64"
   ]
  },
  {
   "cell_type": "code",
   "execution_count": 9,
   "metadata": {},
   "outputs": [],
   "source": [
    "%config IPCompleter.greedy=True\n",
    "%matplotlib inline\n",
    "\n",
    "import pandas as pd\n",
    "import numpy as np\n",
    "import datetime as dt\n",
    "import matplotlib.pyplot as plt\n",
    "from matplotlib import style\n",
    "\n",
    "style.use('ggplot')"
   ]
  },
  {
   "cell_type": "code",
   "execution_count": 2,
   "metadata": {},
   "outputs": [],
   "source": [
    "leads_and_customers = '..\\\\data\\\\leads-and-customers.csv'\n",
    "lead_scoring_fields = '..\\\\data\\\\Lead-Scoring-Fields.csv'"
   ]
  },
  {
   "cell_type": "code",
   "execution_count": 3,
   "metadata": {},
   "outputs": [],
   "source": [
    "df_lac = pd.read_csv(leads_and_customers)\n",
    "df_lsf = pd.read_csv(lead_scoring_fields)"
   ]
  },
  {
   "cell_type": "markdown",
   "metadata": {},
   "source": [
    "#### Review of Columns"
   ]
  },
  {
   "cell_type": "code",
   "execution_count": 4,
   "metadata": {},
   "outputs": [
    {
     "data": {
      "text/plain": [
       "Index(['address', 'birthdate', 'mail', 'name', 'sex', 'username',\n",
       "       'days_since_signup', 'acquisition_channel', 'job_title', 'company_size',\n",
       "       'completed_form', 'visited_pricing', 'registered_for_webinar',\n",
       "       'attended_webinar', 'industry', 'converted', 'is_manager',\n",
       "       'acquisition_channel_Cold Call', 'acquisition_channel_Cold Email',\n",
       "       'acquisition_channel_Organic Search', 'acquisition_channel_Paid Leads',\n",
       "       'acquisition_channel_Paid Search', 'company_size_1-10',\n",
       "       'company_size_1000-10000', 'company_size_10001+',\n",
       "       'company_size_101-250', 'company_size_11-50', 'company_size_251-1000',\n",
       "       'company_size_51-100', 'industry_Financial Services',\n",
       "       'industry_Furniture', 'industry_Heavy Manufacturing',\n",
       "       'Scandanavion Design', 'Transportation', 'Internet', 'score'],\n",
       "      dtype='object')"
      ]
     },
     "execution_count": 4,
     "metadata": {},
     "output_type": "execute_result"
    }
   ],
   "source": [
    "df_lac.columns"
   ]
  },
  {
   "cell_type": "markdown",
   "metadata": {},
   "source": [
    "#### checking types"
   ]
  },
  {
   "cell_type": "code",
   "execution_count": 5,
   "metadata": {
    "scrolled": true
   },
   "outputs": [
    {
     "data": {
      "text/plain": [
       "address                                object\n",
       "birthdate                              object\n",
       "mail                                   object\n",
       "name                                   object\n",
       "sex                                    object\n",
       "username                               object\n",
       "days_since_signup                       int64\n",
       "acquisition_channel                    object\n",
       "job_title                              object\n",
       "company_size                           object\n",
       "completed_form                          int64\n",
       "visited_pricing                         int64\n",
       "registered_for_webinar                  int64\n",
       "attended_webinar                        int64\n",
       "industry                               object\n",
       "converted                               int64\n",
       "is_manager                               bool\n",
       "acquisition_channel_Cold Call           int64\n",
       "acquisition_channel_Cold Email          int64\n",
       "acquisition_channel_Organic Search      int64\n",
       "acquisition_channel_Paid Leads          int64\n",
       "acquisition_channel_Paid Search         int64\n",
       "company_size_1-10                       int64\n",
       "company_size_1000-10000                 int64\n",
       "company_size_10001+                     int64\n",
       "company_size_101-250                    int64\n",
       "company_size_11-50                      int64\n",
       "company_size_251-1000                   int64\n",
       "company_size_51-100                     int64\n",
       "industry_Financial Services             int64\n",
       "industry_Furniture                      int64\n",
       "industry_Heavy Manufacturing            int64\n",
       "Scandanavion Design                     int64\n",
       "Transportation                          int64\n",
       "Internet                                int64\n",
       "score                                 float64\n",
       "dtype: object"
      ]
     },
     "execution_count": 5,
     "metadata": {},
     "output_type": "execute_result"
    }
   ],
   "source": [
    "df_lac.dtypes"
   ]
  },
  {
   "cell_type": "markdown",
   "metadata": {},
   "source": [
    "### Renaming column names"
   ]
  },
  {
   "cell_type": "code",
   "execution_count": 6,
   "metadata": {},
   "outputs": [],
   "source": [
    "df_lac.columns = map(str.lower, df_lac.columns)\n",
    "df_lac.columns = df_lac.columns.str.replace(' ', '_')\n",
    "df_lac.columns = df_lac.columns.str.replace('-', '_to_')\n",
    "df_lac.columns = df_lac.columns.str.replace('+', '_plus')"
   ]
  },
  {
   "cell_type": "markdown",
   "metadata": {},
   "source": [
    "### ..."
   ]
  },
  {
   "cell_type": "markdown",
   "metadata": {},
   "source": [
    "### Column manipulation\n",
    " - change birthdate to datetime\n",
    " - added the following columns:\n",
    "    - is_male\n",
    "    - score_normalized\n",
    "    - days_since_signup_normalized\n",
    "    - ranked value for company size (0-6) -- got this from Jon\n",
    "    - is_director since is_manager is boolean\n",
    "    \n",
    " - I originally added binary columns for various industry types, job types, etc. but since directors seem to have the greatest impact on whether there is a conversion, I'm not going to worry about these. If we want to add back those classifications, they're in my exploration notebook.\n",
    " \n",
    " - I'm not interested in the following columns because they seem to be randomly generated:\n",
    "     - address\n",
    "     - email\n",
    "     - username\n",
    "     - birthdate\n",
    "     "
   ]
  },
  {
   "cell_type": "code",
   "execution_count": 7,
   "metadata": {},
   "outputs": [],
   "source": [
    "score_max = df_lac['score'].max()\n",
    "days_since_signup_max = df_lac['days_since_signup'].max()"
   ]
  },
  {
   "cell_type": "code",
   "execution_count": 18,
   "metadata": {
    "lines_to_next_cell": 2,
    "scrolled": false
   },
   "outputs": [],
   "source": [
    "df_lac['is_male'] = df_lac.sex.apply(lambda x: 1 if x=='M' else 0)\n",
    "df_lac['is_director'] = df_lac.job_title.apply(lambda x: 1 if 'Director' in x else 0)\n",
    "df_lac['score_normalized'] = df_lac.score.apply(lambda x: x / score_max)\n",
    "df_lac['days_since_signup_normalized'] = df_lac.days_since_signup.apply(lambda x: x / days_since_signup_max)\n",
    "\n",
    "# Got this from Jon\n",
    "df_lac['company_size'] = np.nan\n",
    "df_lac.loc[df_lac['company_size_1_to_10'] == 1,'company_size'] = 0\n",
    "df_lac.loc[df_lac['company_size_11_to_50'] == 1,'company_size'] = 1\n",
    "df_lac.loc[df_lac['company_size_51_to_100'] == 1,'company_size'] = 2\n",
    "df_lac.loc[df_lac['company_size_101_to_250'] == 1,'company_size'] = 3\n",
    "df_lac.loc[df_lac['company_size_251_to_1000'] == 1,'company_size'] = 4\n",
    "df_lac.loc[df_lac['company_size_1000_to_10000'] == 1,'company_size'] = 5\n",
    "df_lac.loc[df_lac['company_size_10001_plus'] == 1,'company_size'] = 6\n",
    "\n",
    "df_lac['acquisition_channel_numeric'] = np.nan\n",
    "df_lac.loc[df_lac['acquisition_channel'] == 'Organic Search','acquisition_channel_numeric'] = 0\n",
    "df_lac.loc[df_lac['acquisition_channel'] == 'Cold Email','acquisition_channel_numeric'] = 1\n",
    "df_lac.loc[df_lac['acquisition_channel'] == 'Paid Search','acquisition_channel_numeric'] = 2\n",
    "df_lac.loc[df_lac['acquisition_channel'] == 'Cold Call','acquisition_channel_numeric'] = 3\n",
    "df_lac.loc[df_lac['acquisition_channel'] == 'Paid Leads','acquisition_channel_numeric'] = 4\n"
   ]
  },
  {
   "cell_type": "markdown",
   "metadata": {},
   "source": [
    "### Dropping columns that...\n",
    "    - aren't numeric\n",
    "    - that were reduced to/replaced by 'ranked' columns\n",
    "    - that aren't normalized"
   ]
  },
  {
   "cell_type": "code",
   "execution_count": 46,
   "metadata": {},
   "outputs": [
    {
     "data": {
      "text/plain": [
       "Index(['company_size', 'completed_form', 'visited_pricing',\n",
       "       'registered_for_webinar', 'attended_webinar', 'converted',\n",
       "       'industry_financial_services', 'industry_furniture',\n",
       "       'industry_heavy_manufacturing', 'scandanavion_design', 'transportation',\n",
       "       'internet', 'is_male', 'is_director', 'score_normalized',\n",
       "       'days_since_signup_normalized', 'acquisition_channel_numeric'],\n",
       "      dtype='object')"
      ]
     },
     "execution_count": 46,
     "metadata": {},
     "output_type": "execute_result"
    }
   ],
   "source": [
    "df_lac_numeric = df_lac.select_dtypes(exclude=['object', 'bool', 'datetime64[ns]'])\n",
    "reduced_columns = [\n",
    "    'acquisition_channel_cold_call',\n",
    "    'acquisition_channel_cold_email',\n",
    "    'acquisition_channel_organic_search',\n",
    "    'acquisition_channel_paid_leads',\n",
    "    'acquisition_channel_paid_search',\n",
    "    'company_size_1_to_10',\n",
    "    'company_size_1000_to_10000',\n",
    "    'company_size_10001_plus',\n",
    "    'company_size_101_to_250',\n",
    "    'company_size_11_to_50',\n",
    "    'company_size_251_to_1000',\n",
    "    'company_size_51_to_100'\n",
    "]\n",
    "unwanted_columns = [\n",
    "    'score',\n",
    "    'days_since_signup',\n",
    "]\n",
    "dropped_columns = reduced_columns + unwanted_columns\n",
    "\n",
    "df_lac_numeric = df_lac_numeric.drop(columns=dropped_columns)\n",
    "df_lac_numeric.columns"
   ]
  },
  {
   "cell_type": "code",
   "execution_count": 50,
   "metadata": {},
   "outputs": [
    {
     "data": {
      "text/plain": [
       "17"
      ]
     },
     "execution_count": 50,
     "metadata": {},
     "output_type": "execute_result"
    }
   ],
   "source": [
    "len(df_lac_numeric.columns)"
   ]
  },
  {
   "cell_type": "markdown",
   "metadata": {},
   "source": [
    "### Do we need industry columns?\n",
    "    - if we remove all industry columns, we'd be removing financials, which seemed to have some impact on conversion rate\n",
    "    - Can we remove industries without removing financials?\n",
    "    - Perhaps I'll just reduce them to a 'ranked' column"
   ]
  },
  {
   "cell_type": "code",
   "execution_count": 70,
   "metadata": {
    "scrolled": true
   },
   "outputs": [
    {
     "data": {
      "text/plain": [
       "Index(['company_size', 'completed_form', 'visited_pricing',\n",
       "       'registered_for_webinar', 'attended_webinar', 'converted', 'is_male',\n",
       "       'is_director', 'score_normalized', 'days_since_signup_normalized',\n",
       "       'acquisition_channel_numeric', 'industry_type_numeric'],\n",
       "      dtype='object')"
      ]
     },
     "execution_count": 70,
     "metadata": {},
     "output_type": "execute_result"
    }
   ],
   "source": [
    "df_lac_numeric.columns"
   ]
  },
  {
   "cell_type": "markdown",
   "metadata": {},
   "source": [
    "### With 'ranked' Industry columns..."
   ]
  },
  {
   "cell_type": "code",
   "execution_count": 59,
   "metadata": {},
   "outputs": [],
   "source": [
    "df_lac_numeric['industry_type_numeric'] = np.nan\n",
    "df_lac_numeric.loc[df_lac_numeric['industry_type_numeric'] == 'industry_financial_services','industry_type_numeric'] = 0\n",
    "df_lac_numeric.loc[df_lac_numeric['industry_type_numeric'] == 'industry_furniture','industry_type_numeric'] = 1\n",
    "df_lac_numeric.loc[df_lac_numeric['industry_type_numeric'] == 'industry_heavy_manufacturing','industry_type_numeric'] = 2\n",
    "df_lac_numeric.loc[df_lac_numeric['industry_type_numeric'] == 'scandanavion_design','industry_type_numeric'] = 3\n",
    "df_lac_numeric.loc[df_lac_numeric['industry_type_numeric'] == 'transportation','industry_type_numeric'] = 4\n",
    "df_lac_numeric.loc[df_lac_numeric['industry_type_numeric'] == 'internet','industry_type_numeric'] = 5"
   ]
  },
  {
   "cell_type": "code",
   "execution_count": 72,
   "metadata": {},
   "outputs": [
    {
     "data": {
      "text/plain": [
       "Index(['company_size', 'completed_form', 'visited_pricing',\n",
       "       'registered_for_webinar', 'attended_webinar', 'converted', 'is_male',\n",
       "       'is_director', 'score_normalized', 'days_since_signup_normalized',\n",
       "       'acquisition_channel_numeric', 'industry_type_numeric'],\n",
       "      dtype='object')"
      ]
     },
     "execution_count": 72,
     "metadata": {},
     "output_type": "execute_result"
    }
   ],
   "source": [
    "df_lac_numeric.columns"
   ]
  },
  {
   "cell_type": "code",
   "execution_count": 62,
   "metadata": {},
   "outputs": [
    {
     "data": {
      "text/plain": [
       "Index(['company_size', 'completed_form', 'visited_pricing',\n",
       "       'registered_for_webinar', 'attended_webinar', 'converted', 'is_male',\n",
       "       'is_director', 'score_normalized', 'days_since_signup_normalized',\n",
       "       'acquisition_channel_numeric', 'industry_type_numeric'],\n",
       "      dtype='object')"
      ]
     },
     "execution_count": 62,
     "metadata": {},
     "output_type": "execute_result"
    }
   ],
   "source": [
    "industry_columns = [\n",
    "    'industry_financial_services',\n",
    "    'industry_furniture',\n",
    "    'industry_heavy_manufacturing',\n",
    "    'scandanavion_design',\n",
    "    'transportation',\n",
    "    'internet'\n",
    "]\n",
    "df_lac_numeric = df_lac_numeric.drop(columns=industry_columns)\n",
    "df_lac_numeric.columns"
   ]
  },
  {
   "cell_type": "code",
   "execution_count": 63,
   "metadata": {},
   "outputs": [
    {
     "data": {
      "text/plain": [
       "12"
      ]
     },
     "execution_count": 63,
     "metadata": {},
     "output_type": "execute_result"
    }
   ],
   "source": [
    "len(df_lac_numeric.columns)"
   ]
  },
  {
   "cell_type": "markdown",
   "metadata": {},
   "source": [
    "### Changing columns from int to float"
   ]
  },
  {
   "cell_type": "code",
   "execution_count": 64,
   "metadata": {},
   "outputs": [
    {
     "data": {
      "text/plain": [
       "company_size                    float64\n",
       "completed_form                    int64\n",
       "visited_pricing                   int64\n",
       "registered_for_webinar            int64\n",
       "attended_webinar                  int64\n",
       "converted                         int64\n",
       "is_male                           int64\n",
       "is_director                       int64\n",
       "score_normalized                float64\n",
       "days_since_signup_normalized    float64\n",
       "acquisition_channel_numeric     float64\n",
       "industry_type_numeric           float64\n",
       "dtype: object"
      ]
     },
     "execution_count": 64,
     "metadata": {},
     "output_type": "execute_result"
    }
   ],
   "source": [
    "df_lac_numeric.dtypes"
   ]
  },
  {
   "cell_type": "code",
   "execution_count": 66,
   "metadata": {},
   "outputs": [],
   "source": [
    "df_lac_numeric = df_lac_numeric.astype('float64')"
   ]
  },
  {
   "cell_type": "code",
   "execution_count": 69,
   "metadata": {},
   "outputs": [
    {
     "data": {
      "text/plain": [
       "company_size                    float64\n",
       "completed_form                  float64\n",
       "visited_pricing                 float64\n",
       "registered_for_webinar          float64\n",
       "attended_webinar                float64\n",
       "converted                       float64\n",
       "is_male                         float64\n",
       "is_director                     float64\n",
       "score_normalized                float64\n",
       "days_since_signup_normalized    float64\n",
       "acquisition_channel_numeric     float64\n",
       "industry_type_numeric           float64\n",
       "dtype: object"
      ]
     },
     "execution_count": 69,
     "metadata": {},
     "output_type": "execute_result"
    }
   ],
   "source": [
    "df_lac_numeric.dtypes"
   ]
  },
  {
   "cell_type": "code",
   "execution_count": null,
   "metadata": {},
   "outputs": [],
   "source": []
  }
 ],
 "metadata": {
  "jupytext": {
   "formats": "notebooks//ipynb,scripts//py"
  },
  "kernelspec": {
   "display_name": "Python 3",
   "language": "python",
   "name": "python3"
  },
  "language_info": {
   "codemirror_mode": {
    "name": "ipython",
    "version": 3
   },
   "file_extension": ".py",
   "mimetype": "text/x-python",
   "name": "python",
   "nbconvert_exporter": "python",
   "pygments_lexer": "ipython3",
   "version": "3.7.3"
  }
 },
 "nbformat": 4,
 "nbformat_minor": 2
}
